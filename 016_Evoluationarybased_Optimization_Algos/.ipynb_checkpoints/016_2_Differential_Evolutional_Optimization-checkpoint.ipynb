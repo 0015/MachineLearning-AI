{
 "cells": [
  {
   "cell_type": "code",
   "execution_count": 5,
   "metadata": {},
   "outputs": [],
   "source": [
    "from DE import BaseDE\n",
    "from functions import *"
   ]
  },
  {
   "cell_type": "code",
   "execution_count": 4,
   "metadata": {},
   "outputs": [],
   "source": [
    "## Setting parameters\n",
    "root_paras = {\n",
    "    \"problem_size\": 100,\n",
    "    \"domain_range\": [-100, 100],\n",
    "    \"print_train\": True,\n",
    "    \"objective_func\": C30\n",
    "}\n",
    "de_paras = {\n",
    "    \"epoch\": 500,\n",
    "    \"pop_size\": 100,\n",
    "    \"Wf\": 0.8,\n",
    "    \"Cr\": 0.9\n",
    "}"
   ]
  },
  {
   "cell_type": "code",
   "execution_count": null,
   "metadata": {},
   "outputs": [
    {
     "name": "stderr",
     "output_type": "stream",
     "text": [
      "F:\\100daysofML\\016_Evoluationarybased_Algorithms\\DE.py:43: VisibleDeprecationWarning: Creating an ndarray from ragged nested sequences (which is a list-or-tuple of lists-or-tuples-or ndarrays with different lengths or shapes) is deprecated. If you meant to do this, you must specify 'dtype=object' when creating the ndarray.\n",
      "  return np.array(new_children)\n"
     ]
    },
    {
     "name": "stdout",
     "output_type": "stream",
     "text": [
      "Epoch : 1, [MSE, MAE]: 2416211319903681.5\n",
      "Epoch : 2, [MSE, MAE]: 2416211319903681.5\n",
      "Epoch : 3, [MSE, MAE]: 2416211319903681.5\n",
      "Epoch : 4, [MSE, MAE]: 2416211319903681.5\n",
      "Epoch : 5, [MSE, MAE]: 2416211319903681.5\n",
      "Epoch : 6, [MSE, MAE]: 2416211319903681.5\n",
      "Epoch : 7, [MSE, MAE]: 2416211319903681.5\n",
      "Epoch : 8, [MSE, MAE]: 2416211319903681.5\n",
      "Epoch : 9, [MSE, MAE]: 2416211319903681.5\n",
      "Epoch : 10, [MSE, MAE]: 2416211319903681.5\n",
      "Epoch : 11, [MSE, MAE]: 2416211319903681.5\n",
      "Epoch : 12, [MSE, MAE]: 2416211319903681.5\n",
      "Epoch : 13, [MSE, MAE]: 2416211319903681.5\n",
      "Epoch : 14, [MSE, MAE]: 2416211319903681.5\n",
      "Epoch : 15, [MSE, MAE]: 2416211319903681.5\n",
      "Epoch : 16, [MSE, MAE]: 2416211319903681.5\n",
      "Epoch : 17, [MSE, MAE]: 2416211319903681.5\n",
      "Epoch : 18, [MSE, MAE]: 2416211319903681.5\n",
      "Epoch : 19, [MSE, MAE]: 2416211319903681.5\n",
      "Epoch : 20, [MSE, MAE]: 2416211319903681.5\n",
      "Epoch : 21, [MSE, MAE]: 2416211319903681.5\n",
      "Epoch : 22, [MSE, MAE]: 2416211319903681.5\n",
      "Epoch : 23, [MSE, MAE]: 2416211319903681.5\n",
      "Epoch : 24, [MSE, MAE]: 2416211319903681.5\n",
      "Epoch : 25, [MSE, MAE]: 2416211319903681.5\n",
      "Epoch : 26, [MSE, MAE]: 2416211319903681.5\n",
      "Epoch : 27, [MSE, MAE]: 2090385662258612.5\n",
      "Epoch : 28, [MSE, MAE]: 2090385662258612.5\n",
      "Epoch : 29, [MSE, MAE]: 2090385662258612.5\n",
      "Epoch : 30, [MSE, MAE]: 2090385662258612.5\n"
     ]
    }
   ],
   "source": [
    "## Run model\n",
    "md = BaseDE(root_algo_paras=root_paras, de_paras=de_paras)\n",
    "md._train__()"
   ]
  },
  {
   "cell_type": "code",
   "execution_count": null,
   "metadata": {},
   "outputs": [],
   "source": []
  }
 ],
 "metadata": {
  "kernelspec": {
   "display_name": "3dmedimage",
   "language": "python",
   "name": "3dmedimage"
  },
  "language_info": {
   "codemirror_mode": {
    "name": "ipython",
    "version": 3
   },
   "file_extension": ".py",
   "mimetype": "text/x-python",
   "name": "python",
   "nbconvert_exporter": "python",
   "pygments_lexer": "ipython3",
   "version": "3.7.1"
  }
 },
 "nbformat": 4,
 "nbformat_minor": 2
}
