{
  "nbformat": 4,
  "nbformat_minor": 0,
  "metadata": {
    "colab": {
      "name": "055_01_Linear_Algebra_&_SVD_and_PCA",
      "provenance": [],
      "collapsed_sections": []
    },
    "kernelspec": {
      "name": "python3",
      "display_name": "Python 3"
    }
  },
  "cells": [
    {
      "cell_type": "markdown",
      "metadata": {
        "id": "ntja3VtFswOS"
      },
      "source": [
        "**SVD**"
      ]
    },
    {
      "cell_type": "code",
      "metadata": {
        "id": "WxlbQ0EDsLmK",
        "outputId": "95a8011c-6cef-49ac-b85b-292473048cd7",
        "colab": {
          "base_uri": "https://localhost:8080/"
        }
      },
      "source": [
        "import numpy as np\n",
        "\n",
        "def getS(s,h,w, inv=False):\n",
        "    '''Function to get Sigma matrix from singular values if A matrix is not square'''\n",
        "    Sigma = np.zeros((h, w))\n",
        "    ms = min(h,w)\n",
        "    s = s[:ms]\n",
        "    Sigma[:ms, :ms] = np.diag(s) if not inv else np.linalg.inv(np.diag(s))\n",
        "    return Sigma\n",
        "\n",
        "m = np.mat([[1,0,0,0,2],\n",
        "            [0,0,3,0,0],\n",
        "            [0,0,0,0,0],\n",
        "            [0,2,0,0,0]])\n",
        "h,w = m.shape\n",
        "u,s,v = np.linalg.svd(m)\n",
        "print('Numpy SVD Matrix reconstruction:\\n',u.dot( getS(s,h,w).dot(v) ))\n",
        "\n",
        "\n",
        "def SVD(A):\n",
        "    h,w = A.shape\n",
        "    AT_A = np.dot(A.T,A)\n",
        "    ev,v = np.linalg.eig(AT_A)\n",
        "    # eigenvectors goes from biggest to smallest eigenvalue\n",
        "    idx = np.argsort(ev)[::-1]\n",
        "    # singular value = sqrt(eigenvalue)\n",
        "    s = np.sqrt(ev[ev>=0])\n",
        "    s = np.sort(s)[::-1]\n",
        "    v = v[:,idx]\n",
        "    # if det(diag(s)) != 0 we can get U from equation A*V*inv(S) \n",
        "    # u = A.dot(v.dot(sinv.T))\n",
        "    print(\"This is s:\", s)\n",
        "    U = np.zeros((h,h))\n",
        "    for i,si in enumerate(s):\n",
        "        gamma = (1/si) if np.sum(si) != 0 else 0\n",
        "        vi = v[:,i]\n",
        "        dd = A.dot(vi) if gamma != 0 else np.zeros((h,1))\n",
        "        r = gamma * dd\n",
        "        U[:,i:i+1] = r\n",
        "    return U, s, v.conj().T\n",
        "\n",
        "\n",
        "u,s,v = SVD(m)\n",
        "print('Our SVD Matrix reconstruction:\\n',u.dot( getS(s,h,w).dot(v) ))"
      ],
      "execution_count": 3,
      "outputs": [
        {
          "output_type": "stream",
          "name": "stdout",
          "text": [
            "Numpy SVD Matrix reconstruction:\n",
            " [[1. 0. 0. 0. 2.]\n",
            " [0. 0. 3. 0. 0.]\n",
            " [0. 0. 0. 0. 0.]\n",
            " [0. 2. 0. 0. 0.]]\n",
            "This is s: [3.         2.23606798 2.         0.         0.        ]\n",
            "Our SVD Matrix reconstruction:\n",
            " [[1. 0. 0. 0. 2.]\n",
            " [0. 0. 3. 0. 0.]\n",
            " [0. 0. 0. 0. 0.]\n",
            " [0. 2. 0. 0. 0.]]\n"
          ]
        }
      ]
    },
    {
      "cell_type": "markdown",
      "metadata": {
        "id": "3H2_HFq2su2V"
      },
      "source": [
        "**PCA**\n",
        "To check that PCA works we will use cosine(angle) distance between all vectors in original and reduced matrices"
      ]
    },
    {
      "cell_type": "code",
      "metadata": {
        "id": "hC-PHXK0sl0k",
        "outputId": "a2f9e029-90b9-4d7e-b345-110a33c0963a",
        "colab": {
          "base_uri": "https://localhost:8080/"
        }
      },
      "source": [
        "from scipy.spatial.distance import pdist\n",
        "\n",
        "m = np.mat([[1,1.4,6.7,5.1,2],\n",
        "            [0.3,5,3.1,1.1,0.2],\n",
        "            [0,1.2,15,0.1,0.2],\n",
        "            [1,2,0,3,0]])\n",
        "\n",
        "h,w = m.shape\n",
        "n = 3\n",
        "u, s, v = SVD(m)\n",
        "A = u.dot( getS(s,h,w).dot(v) )\n",
        "print('Our SVD Matrix reconstruction:\\n',A)\n",
        "print('Distance:', pdist(A, metric='cosine'))\n",
        "\n",
        "u, s, v = SVD(m)\n",
        "Ap = np.zeros((h,n))\n",
        "sp = s[:n]\n",
        "up = u[:,:n]\n",
        "Ar = up.dot(np.diag(sp) )\n",
        "print('PCA Matrix reconstruction:\\n',Ar)\n",
        "print('Distance:', pdist(Ar, metric='cosine'))\n",
        "\n",
        "rmse = np.sqrt(np.mean(np.square(pdist(Ar, metric='cosine') - pdist(A, metric='cosine'))))\n",
        "print (\"RMSE:\", rmse)"
      ],
      "execution_count": 4,
      "outputs": [
        {
          "output_type": "stream",
          "name": "stdout",
          "text": [
            "This is s: [1.71768249e+01 6.47877400e+00 4.05879049e+00 8.99106511e-01\n",
            " 3.45501502e-08]\n",
            "Our SVD Matrix reconstruction:\n",
            " [[ 1.00000000e+00  1.40000000e+00  6.70000000e+00  5.10000000e+00\n",
            "   2.00000000e+00]\n",
            " [ 3.00000000e-01  5.00000000e+00  3.10000000e+00  1.10000000e+00\n",
            "   2.00000000e-01]\n",
            " [ 1.87458936e-16  1.20000000e+00  1.50000000e+01  1.00000000e-01\n",
            "   2.00000000e-01]\n",
            " [ 1.00000000e+00  2.00000000e+00 -2.29611738e-16  3.00000000e+00\n",
            "  -2.28636252e-16]]\n",
            "Distance: [0.35584121 0.22369064 0.4214883  0.4165221  0.39378672 0.95205148]\n",
            "This is s: [1.71768249e+01 6.47877400e+00 4.05879049e+00 8.99106511e-01\n",
            " 3.45501502e-08]\n",
            "PCA Matrix reconstruction:\n",
            " [[ -7.72396324   3.52010578   2.38364684]\n",
            " [ -4.06255793   2.95127995  -3.2654885 ]\n",
            " [-14.76935517  -2.86095308  -0.35227386]\n",
            " [ -0.86341048   3.56205866   0.06705189]]\n",
            "Distance: [0.35648135 0.22239032 0.40075648 0.41522899 0.37145461 0.95400002]\n",
            "RMSE: 0.01249066950094009\n"
          ]
        }
      ]
    },
    {
      "cell_type": "code",
      "metadata": {
        "id": "YGTPS-vDs3Lc"
      },
      "source": [
        ""
      ],
      "execution_count": null,
      "outputs": []
    }
  ]
}