{
 "cells": [
  {
   "cell_type": "code",
   "execution_count": 1,
   "metadata": {},
   "outputs": [],
   "source": [
    "from PFA import BasePFA, OPFA, LPFA, IPFA, BasePFA_DE, BasePFA_DE_Levy\n",
    "from functions import *"
   ]
  },
  {
   "cell_type": "code",
   "execution_count": 2,
   "metadata": {},
   "outputs": [],
   "source": [
    "## Setting parameters\n",
    "root_paras = {\n",
    "    \"problem_size\": 100,\n",
    "    \"domain_range\": [-100, 100],\n",
    "    \"print_train\": True,\n",
    "    \"objective_func\": C30\n",
    "}\n",
    "pfa_paras = {\n",
    "    \"epoch\": 1000,\n",
    "    \"pop_size\": 100\n",
    "}\n"
   ]
  },
  {
   "cell_type": "code",
   "execution_count": null,
   "metadata": {},
   "outputs": [],
   "source": [
    "## Run model\n",
    "md = IPFA(root_algo_paras=root_paras, pfa_paras=pfa_paras)\n",
    "md._train__()"
   ]
  },
  {
   "cell_type": "code",
   "execution_count": null,
   "metadata": {},
   "outputs": [],
   "source": []
  }
 ],
 "metadata": {
  "kernelspec": {
   "display_name": "3dmedimage",
   "language": "python",
   "name": "3dmedimage"
  },
  "language_info": {
   "codemirror_mode": {
    "name": "ipython",
    "version": 3
   },
   "file_extension": ".py",
   "mimetype": "text/x-python",
   "name": "python",
   "nbconvert_exporter": "python",
   "pygments_lexer": "ipython3",
   "version": "3.7.1"
  }
 },
 "nbformat": 4,
 "nbformat_minor": 2
}
