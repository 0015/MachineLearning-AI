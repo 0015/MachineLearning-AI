{
 "cells": [
  {
   "cell_type": "code",
   "execution_count": 2,
   "metadata": {},
   "outputs": [],
   "source": [
    "import logging\n",
    "from gwo_problem import GWOProblem\n",
    "from functions import FUNCTIONS"
   ]
  },
  {
   "cell_type": "code",
   "execution_count": 3,
   "metadata": {},
   "outputs": [],
   "source": [
    "LOGGER = logging.getLogger(__name__)\n",
    "\n",
    "def _run_gwo(args):\n",
    "    LOGGER.info('Start grey wolf optimization with parameters=\"%s\"', args)\n",
    "    args['function'] = FUNCTIONS[args['function']]\n",
    "\n",
    "    problem = GWOProblem(**args)\n",
    "    problem.solve()\n",
    "    problem.replay()\n",
    "\n",
    "\n",
    "def configure_parser(sub_parsers):\n",
    "    \"\"\"\n",
    "    Get the argument parser for grey wolf optimization\n",
    "    \"\"\"\n",
    "\n",
    "    parser = sub_parsers.add_parser(\n",
    "        'wolves',\n",
    "        description='Solving an minimization problem using the grey wolf optimization algorithm',\n",
    "        help='Grey Wolf optimization algorithm for minimization problem')\n",
    "\n",
    "    parser.add_argument(\n",
    "        '-f',\n",
    "        '--function',\n",
    "        type=str,\n",
    "        default='michalewicz',\n",
    "        help='''Choose the function that is used for searching the minimum.\n",
    "        Choices are any of the 2D or nD single objective functions available\n",
    "        in the 'landscapes' package (https://git.io/JTSFv). Example arguments:\n",
    "        'michalewicz', 'ackley', 'rastrigin'.''',\n",
    "        choices=[*FUNCTIONS],\n",
    "        metavar='')\n",
    "    parser.add_argument(\n",
    "        '-u',\n",
    "        '--upper-boundary',\n",
    "        type=float,\n",
    "        default=4.,\n",
    "        help='Upper boundary of the function (default 4)')\n",
    "    parser.add_argument(\n",
    "        '-l',\n",
    "        '--lower-boundary',\n",
    "        type=float,\n",
    "        default=0.,\n",
    "        help='Lower boundary of the function (default 0)')\n",
    "    parser.add_argument(\n",
    "        '-n',\n",
    "        '--iteration-number',\n",
    "        type=int,\n",
    "        default=10,\n",
    "        help='Number of iterations to execute (default 30)')\n",
    "    parser.add_argument(\n",
    "        'wolves',\n",
    "        type=int,\n",
    "        help='Number of wolves used for solving')\n",
    "\n",
    "    parser.set_defaults(func=_run_gwo)\n"
   ]
  },
  {
   "cell_type": "code",
   "execution_count": null,
   "metadata": {},
   "outputs": [],
   "source": []
  }
 ],
 "metadata": {
  "kernelspec": {
   "display_name": "Python 3",
   "language": "python",
   "name": "python3"
  },
  "language_info": {
   "codemirror_mode": {
    "name": "ipython",
    "version": 3
   },
   "file_extension": ".py",
   "mimetype": "text/x-python",
   "name": "python",
   "nbconvert_exporter": "python",
   "pygments_lexer": "ipython3",
   "version": "3.7.3"
  }
 },
 "nbformat": 4,
 "nbformat_minor": 2
}
