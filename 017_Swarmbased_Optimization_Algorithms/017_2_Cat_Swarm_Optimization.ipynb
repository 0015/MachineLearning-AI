{
 "cells": [
  {
   "cell_type": "code",
   "execution_count": 2,
   "metadata": {},
   "outputs": [],
   "source": [
    "from CSO import BaseCSO\n",
    "from functions import *\n"
   ]
  },
  {
   "cell_type": "code",
   "execution_count": 3,
   "metadata": {},
   "outputs": [],
   "source": [
    "\n",
    "## Setting parameters\n",
    "root_paras = {\n",
    "    \"problem_size\": 100,\n",
    "    \"domain_range\": [-100, 100],\n",
    "    \"print_train\": True,\n",
    "    \"objective_func\": C30\n",
    "}\n",
    "\n",
    "cso_paras = {\n",
    "    \"epoch\": 1000,\n",
    "    \"pop_size\": 100,\n",
    "    \"mixture_ratio\": 0.15,      # MR - joining seeking mode with tracing mode\n",
    "    \"smp\": 50,              # seeking memory pool, 50 clones                (larger is better, but need more time)\n",
    "    \"spc\": True,            # self-position considering\n",
    "    \"cdc\": 0.8,             # counts of dimension to change                 (larger is better)\n",
    "    \"srd\": 0.15,            # seeking range of the selected dimension      (lower is better, but need more time)\n",
    "    \"c1\": 0.4,\n",
    "    \"w_minmax\": [0.4, 0.9],     # [0-1] -> [0.4-0.9]      Weight of bird\n",
    "\n",
    "    \"selected_strategy\": 0  # 0: roulette wheel, 1: random, 2: best fitness, 3: tournament\n",
    "}\n"
   ]
  },
  {
   "cell_type": "code",
   "execution_count": null,
   "metadata": {},
   "outputs": [
    {
     "name": "stdout",
     "output_type": "stream",
     "text": [
      "Generation : 1, average MAE over population: 2307770408539374.5\n",
      "Generation : 2, average MAE over population: 984987790642864.0\n",
      "Generation : 3, average MAE over population: 415044274087647.06\n",
      "Generation : 4, average MAE over population: 227497272176769.06\n",
      "Generation : 5, average MAE over population: 132567062992036.02\n",
      "Generation : 6, average MAE over population: 77042762439355.42\n",
      "Generation : 7, average MAE over population: 40078212891551.57\n",
      "Generation : 8, average MAE over population: 29088532747953.93\n",
      "Generation : 9, average MAE over population: 13636093018052.557\n",
      "Generation : 10, average MAE over population: 7094962046327.475\n",
      "Generation : 11, average MAE over population: 4229790232996.8423\n",
      "Generation : 12, average MAE over population: 2531417105883.09\n",
      "Generation : 13, average MAE over population: 1249801468785.473\n",
      "Generation : 14, average MAE over population: 664348526786.8774\n",
      "Generation : 15, average MAE over population: 368936793721.43286\n",
      "Generation : 16, average MAE over population: 241911674724.2582\n",
      "Generation : 17, average MAE over population: 125942718180.97755\n",
      "Generation : 18, average MAE over population: 78960123571.00087\n",
      "Generation : 19, average MAE over population: 50540360315.11292\n",
      "Generation : 20, average MAE over population: 34370389077.71657\n",
      "Generation : 21, average MAE over population: 24029978207.90298\n",
      "Generation : 22, average MAE over population: 12573573681.66898\n",
      "Generation : 23, average MAE over population: 8063527034.49806\n",
      "Generation : 24, average MAE over population: 6851020779.632608\n",
      "Generation : 25, average MAE over population: 4460702767.294305\n",
      "Generation : 26, average MAE over population: 2654553156.7711167\n",
      "Generation : 27, average MAE over population: 2215515643.95333\n",
      "Generation : 28, average MAE over population: 1561655854.1803474\n",
      "Generation : 29, average MAE over population: 996943473.8386936\n",
      "Generation : 30, average MAE over population: 751676917.8691225\n",
      "Generation : 31, average MAE over population: 751676917.8691225\n",
      "Generation : 32, average MAE over population: 751676917.8691225\n"
     ]
    }
   ],
   "source": [
    "## Run model\n",
    "md = BaseCSO(root_algo_paras=root_paras, cso_paras=cso_paras)\n",
    "md._train__()"
   ]
  },
  {
   "cell_type": "code",
   "execution_count": null,
   "metadata": {},
   "outputs": [],
   "source": []
  }
 ],
 "metadata": {
  "kernelspec": {
   "display_name": "3dmedimage",
   "language": "python",
   "name": "3dmedimage"
  },
  "language_info": {
   "codemirror_mode": {
    "name": "ipython",
    "version": 3
   },
   "file_extension": ".py",
   "mimetype": "text/x-python",
   "name": "python",
   "nbconvert_exporter": "python",
   "pygments_lexer": "ipython3",
   "version": "3.7.1"
  }
 },
 "nbformat": 4,
 "nbformat_minor": 2
}
