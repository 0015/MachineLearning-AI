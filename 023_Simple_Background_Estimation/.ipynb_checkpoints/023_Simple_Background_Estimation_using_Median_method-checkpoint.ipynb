{
 "cells": [
  {
   "cell_type": "code",
   "execution_count": 1,
   "metadata": {},
   "outputs": [],
   "source": [
    "import numpy as np\n",
    "import cv2\n",
    "from skimage import data, filters\n",
    "import imageio"
   ]
  },
  {
   "cell_type": "code",
   "execution_count": 5,
   "metadata": {},
   "outputs": [],
   "source": [
    "# Open Video\n",
    "cap = cv2.VideoCapture('./data/video1.mp4')\n",
    "\n",
    "# Randomly select 25 frames\n",
    "frameIds = cap.get(cv2.CAP_PROP_FRAME_COUNT) * np.random.uniform(size=25)\n",
    " \n",
    "# Store selected frames in an array\n",
    "frames = []\n",
    "for fid in frameIds:\n",
    "    cap.set(cv2.CAP_PROP_POS_FRAMES, fid)\n",
    "    ret, frame = cap.read()\n",
    "    frames.append(frame)\n",
    "\n",
    "# Calculate the median along the time axis\n",
    "medianFrame = np.median(frames, axis=0).astype(dtype=np.uint8)   \n",
    "\n",
    "# Display median frame\n",
    "cv2.imshow('frame', medianFrame)\n",
    "cv2.imwrite(\"./Images/background1.jpg\",medianFrame)\n",
    "\n",
    "cv2.waitKey(0)\n",
    "cv2.destroyAllWindows()"
   ]
  },
  {
   "cell_type": "code",
   "execution_count": null,
   "metadata": {},
   "outputs": [],
   "source": [
    "cap = cv2.VideoCapture('./data/video1.mp4')\n",
    "\n",
    "# Reset frame number to 0\n",
    "cap.set(cv2.CAP_PROP_POS_FRAMES, 0)\n",
    "\n",
    "# Convert background to grayscale\n",
    "grayMedianFrame = cv2.cvtColor(medianFrame, cv2.COLOR_BGR2GRAY)\n",
    "\n",
    "# Loop over all frames\n",
    "ret = True\n",
    "im_list = []\n",
    "\n",
    "while(ret):\n",
    "    # Read frame\n",
    "    ret, frame = cap.read()\n",
    "\n",
    "    # Convert current frame to grayscale\n",
    "    frame = cv2.cvtColor(frame, cv2.COLOR_BGR2GRAY)\n",
    "\n",
    "    # Calculate absolute difference of current frame and\n",
    "    # the median frame\n",
    "    dframe = cv2.absdiff(frame, grayMedianFrame)\n",
    "\n",
    "    # Treshold to binarize\n",
    "    th, dframe = cv2.threshold(dframe, 30, 255, cv2.THRESH_BINARY)\n",
    "    \n",
    "    # Display image\n",
    "    cv2.imshow('frame', dframe)\n",
    "    im_list.append(dframe)\n",
    "    \n",
    "    cv2.waitKey(20)\n",
    "\n",
    "# Release video object\n",
    "cap.release()\n",
    "imageio.save(\"./Images/bin_vid1.gif\", im_list, fps = 60)\n",
    "\n",
    "# Destroy all windows\n",
    "cv2.destroyAllWindows()"
   ]
  },
  {
   "cell_type": "code",
   "execution_count": null,
   "metadata": {},
   "outputs": [],
   "source": []
  }
 ],
 "metadata": {
  "kernelspec": {
   "display_name": "computerVision",
   "language": "python",
   "name": "computervision"
  },
  "language_info": {
   "codemirror_mode": {
    "name": "ipython",
    "version": 3
   },
   "file_extension": ".py",
   "mimetype": "text/x-python",
   "name": "python",
   "nbconvert_exporter": "python",
   "pygments_lexer": "ipython3",
   "version": "3.7.1"
  }
 },
 "nbformat": 4,
 "nbformat_minor": 2
}
