{
  "nbformat": 4,
  "nbformat_minor": 0,
  "metadata": {
    "colab": {
      "name": "Noise.ipynb",
      "provenance": []
    },
    "kernelspec": {
      "display_name": "Python 3",
      "language": "python",
      "name": "python3"
    },
    "language_info": {
      "codemirror_mode": {
        "name": "ipython",
        "version": 3
      },
      "file_extension": ".py",
      "mimetype": "text/x-python",
      "name": "python",
      "nbconvert_exporter": "python",
      "pygments_lexer": "ipython3",
      "version": "3.8.8"
    }
  },
  "cells": [
    {
      "cell_type": "markdown",
      "metadata": {
        "id": "xLOXFOT5Q40E"
      },
      "source": [
        "##### Copyright 2020 The TensorFlow Authors."
      ]
    },
    {
      "cell_type": "code",
      "metadata": {
        "cellView": "form",
        "id": "iiQkM5ZgQ8r2"
      },
      "source": [
        "#@title Licensed under the Apache License, Version 2.0 (the \"License\");\n",
        "# you may not use this file except in compliance with the License.\n",
        "# You may obtain a copy of the License at\n",
        "#\n",
        "# https://www.apache.org/licenses/LICENSE-2.0\n",
        "#\n",
        "# Unless required by applicable law or agreed to in writing, software\n",
        "# distributed under the License is distributed on an \"AS IS\" BASIS,\n",
        "# WITHOUT WARRANTIES OR CONDITIONS OF ANY KIND, either express or implied.\n",
        "# See the License for the specific language governing permissions and\n",
        "# limitations under the License."
      ],
      "execution_count": null,
      "outputs": []
    },
    {
      "cell_type": "markdown",
      "metadata": {
        "id": "UndbWF_UpN-X"
      },
      "source": [
        "# Noise"
      ]
    },
    {
      "cell_type": "markdown",
      "metadata": {
        "id": "i9Jcnb8bQQyd"
      },
      "source": [
        "<table class=\"tfo-notebook-buttons\" align=\"left\">\n",
        "  <td>\n",
        "    <a target=\"_blank\" href=\"https://www.tensorflow.org/quantum/tutorials/noise\"><img src=\"https://www.tensorflow.org/images/tf_logo_32px.png\" />View on TensorFlow.org</a>\n",
        "  </td>\n",
        "  <td>\n",
        "    <a target=\"_blank\" href=\"https://colab.research.google.com/github/tensorflow/quantum/blob/master/docs/tutorials/noise.ipynb\"><img src=\"https://www.tensorflow.org/images/colab_logo_32px.png\" />Run in Google Colab</a>\n",
        "  </td>\n",
        "  <td>\n",
        "    <a target=\"_blank\" href=\"https://github.com/tensorflow/quantum/blob/master/docs/tutorials/noise.ipynb\"><img src=\"https://www.tensorflow.org/images/GitHub-Mark-32px.png\" />View source on GitHub</a>\n",
        "  </td>\n",
        "  <td>\n",
        "    <a href=\"https://storage.googleapis.com/tensorflow_docs/quantum/docs/tutorials/noise.ipynb\"><img src=\"https://www.tensorflow.org/images/download_logo_32px.png\" />Download notebook</a>\n",
        "  </td>\n",
        "</table>"
      ]
    },
    {
      "cell_type": "markdown",
      "metadata": {
        "id": "fHHaKIG06Iv_"
      },
      "source": [
        "Noise is present in modern day quantum computers. Qubits are susceptible to interference from the surrounding environment, imperfect fabrication, TLS and sometimes even [gamma rays](https://arxiv.org/abs/2104.05219). Until large scale error correction is reached, the algorithms of today must be able to remain functional in the presence of noise. This makes testing algorithms under noise an important step for validating quantum algorithms / models will function on the quantum computers of today.\n",
        "\n",
        "In this tutorial you will explore the basics of noisy circuit simulation in TFQ via the high level `tfq.layers` API.\n",
        "\n",
        "## Setup"
      ]
    },
    {
      "cell_type": "code",
      "metadata": {
        "id": "J2CRbYRqrLdt",
        "colab": {
          "base_uri": "https://localhost:8080/",
          "height": 1000
        },
        "outputId": "928ae654-187b-42a1-ea58-a839726fd38f"
      },
      "source": [
        "!pip install tensorflow==2.4.1 tensorflow-quantum"
      ],
      "execution_count": 1,
      "outputs": [
        {
          "output_type": "stream",
          "name": "stdout",
          "text": [
            "Collecting tensorflow==2.4.1\n",
            "  Downloading tensorflow-2.4.1-cp37-cp37m-manylinux2010_x86_64.whl (394.3 MB)\n",
            "\u001b[K     |████████████████████████████████| 394.3 MB 12 kB/s \n",
            "\u001b[?25hCollecting tensorflow-quantum\n",
            "  Downloading tensorflow_quantum-0.5.1-cp37-cp37m-manylinux_2_12_x86_64.manylinux2010_x86_64.whl (7.8 MB)\n",
            "\u001b[K     |████████████████████████████████| 7.8 MB 22.8 MB/s \n",
            "\u001b[?25hCollecting typing-extensions~=3.7.4\n",
            "  Downloading typing_extensions-3.7.4.3-py3-none-any.whl (22 kB)\n",
            "Requirement already satisfied: tensorboard~=2.4 in /usr/local/lib/python3.7/dist-packages (from tensorflow==2.4.1) (2.7.0)\n",
            "Requirement already satisfied: google-pasta~=0.2 in /usr/local/lib/python3.7/dist-packages (from tensorflow==2.4.1) (0.2.0)\n",
            "Requirement already satisfied: astunparse~=1.6.3 in /usr/local/lib/python3.7/dist-packages (from tensorflow==2.4.1) (1.6.3)\n",
            "Collecting h5py~=2.10.0\n",
            "  Downloading h5py-2.10.0-cp37-cp37m-manylinux1_x86_64.whl (2.9 MB)\n",
            "\u001b[K     |████████████████████████████████| 2.9 MB 43.7 MB/s \n",
            "\u001b[?25hRequirement already satisfied: numpy~=1.19.2 in /usr/local/lib/python3.7/dist-packages (from tensorflow==2.4.1) (1.19.5)\n",
            "Requirement already satisfied: opt-einsum~=3.3.0 in /usr/local/lib/python3.7/dist-packages (from tensorflow==2.4.1) (3.3.0)\n",
            "Requirement already satisfied: keras-preprocessing~=1.1.2 in /usr/local/lib/python3.7/dist-packages (from tensorflow==2.4.1) (1.1.2)\n",
            "Collecting wrapt~=1.12.1\n",
            "  Downloading wrapt-1.12.1.tar.gz (27 kB)\n",
            "Collecting flatbuffers~=1.12.0\n",
            "  Downloading flatbuffers-1.12-py2.py3-none-any.whl (15 kB)\n",
            "Collecting absl-py~=0.10\n",
            "  Downloading absl_py-0.15.0-py3-none-any.whl (132 kB)\n",
            "\u001b[K     |████████████████████████████████| 132 kB 26.3 MB/s \n",
            "\u001b[?25hCollecting tensorflow-estimator<2.5.0,>=2.4.0\n",
            "  Downloading tensorflow_estimator-2.4.0-py2.py3-none-any.whl (462 kB)\n",
            "\u001b[K     |████████████████████████████████| 462 kB 60.1 MB/s \n",
            "\u001b[?25hCollecting grpcio~=1.32.0\n",
            "  Downloading grpcio-1.32.0-cp37-cp37m-manylinux2014_x86_64.whl (3.8 MB)\n",
            "\u001b[K     |████████████████████████████████| 3.8 MB 43.2 MB/s \n",
            "\u001b[?25hRequirement already satisfied: wheel~=0.35 in /usr/local/lib/python3.7/dist-packages (from tensorflow==2.4.1) (0.37.1)\n",
            "Collecting gast==0.3.3\n",
            "  Downloading gast-0.3.3-py2.py3-none-any.whl (9.7 kB)\n",
            "Requirement already satisfied: termcolor~=1.1.0 in /usr/local/lib/python3.7/dist-packages (from tensorflow==2.4.1) (1.1.0)\n",
            "Requirement already satisfied: protobuf>=3.9.2 in /usr/local/lib/python3.7/dist-packages (from tensorflow==2.4.1) (3.17.3)\n",
            "Requirement already satisfied: six~=1.15.0 in /usr/local/lib/python3.7/dist-packages (from tensorflow==2.4.1) (1.15.0)\n",
            "Requirement already satisfied: requests<3,>=2.21.0 in /usr/local/lib/python3.7/dist-packages (from tensorboard~=2.4->tensorflow==2.4.1) (2.23.0)\n",
            "Requirement already satisfied: markdown>=2.6.8 in /usr/local/lib/python3.7/dist-packages (from tensorboard~=2.4->tensorflow==2.4.1) (3.3.6)\n",
            "Requirement already satisfied: tensorboard-data-server<0.7.0,>=0.6.0 in /usr/local/lib/python3.7/dist-packages (from tensorboard~=2.4->tensorflow==2.4.1) (0.6.1)\n",
            "Requirement already satisfied: tensorboard-plugin-wit>=1.6.0 in /usr/local/lib/python3.7/dist-packages (from tensorboard~=2.4->tensorflow==2.4.1) (1.8.1)\n",
            "Requirement already satisfied: werkzeug>=0.11.15 in /usr/local/lib/python3.7/dist-packages (from tensorboard~=2.4->tensorflow==2.4.1) (1.0.1)\n",
            "Requirement already satisfied: google-auth-oauthlib<0.5,>=0.4.1 in /usr/local/lib/python3.7/dist-packages (from tensorboard~=2.4->tensorflow==2.4.1) (0.4.6)\n",
            "Requirement already satisfied: google-auth<3,>=1.6.3 in /usr/local/lib/python3.7/dist-packages (from tensorboard~=2.4->tensorflow==2.4.1) (1.35.0)\n",
            "Requirement already satisfied: setuptools>=41.0.0 in /usr/local/lib/python3.7/dist-packages (from tensorboard~=2.4->tensorflow==2.4.1) (57.4.0)\n",
            "Requirement already satisfied: rsa<5,>=3.1.4 in /usr/local/lib/python3.7/dist-packages (from google-auth<3,>=1.6.3->tensorboard~=2.4->tensorflow==2.4.1) (4.8)\n",
            "Requirement already satisfied: cachetools<5.0,>=2.0.0 in /usr/local/lib/python3.7/dist-packages (from google-auth<3,>=1.6.3->tensorboard~=2.4->tensorflow==2.4.1) (4.2.4)\n",
            "Requirement already satisfied: pyasn1-modules>=0.2.1 in /usr/local/lib/python3.7/dist-packages (from google-auth<3,>=1.6.3->tensorboard~=2.4->tensorflow==2.4.1) (0.2.8)\n",
            "Requirement already satisfied: requests-oauthlib>=0.7.0 in /usr/local/lib/python3.7/dist-packages (from google-auth-oauthlib<0.5,>=0.4.1->tensorboard~=2.4->tensorflow==2.4.1) (1.3.0)\n",
            "Requirement already satisfied: importlib-metadata>=4.4 in /usr/local/lib/python3.7/dist-packages (from markdown>=2.6.8->tensorboard~=2.4->tensorflow==2.4.1) (4.10.1)\n",
            "Requirement already satisfied: zipp>=0.5 in /usr/local/lib/python3.7/dist-packages (from importlib-metadata>=4.4->markdown>=2.6.8->tensorboard~=2.4->tensorflow==2.4.1) (3.7.0)\n",
            "Requirement already satisfied: pyasn1<0.5.0,>=0.4.6 in /usr/local/lib/python3.7/dist-packages (from pyasn1-modules>=0.2.1->google-auth<3,>=1.6.3->tensorboard~=2.4->tensorflow==2.4.1) (0.4.8)\n",
            "Requirement already satisfied: urllib3!=1.25.0,!=1.25.1,<1.26,>=1.21.1 in /usr/local/lib/python3.7/dist-packages (from requests<3,>=2.21.0->tensorboard~=2.4->tensorflow==2.4.1) (1.24.3)\n",
            "Requirement already satisfied: certifi>=2017.4.17 in /usr/local/lib/python3.7/dist-packages (from requests<3,>=2.21.0->tensorboard~=2.4->tensorflow==2.4.1) (2021.10.8)\n",
            "Requirement already satisfied: idna<3,>=2.5 in /usr/local/lib/python3.7/dist-packages (from requests<3,>=2.21.0->tensorboard~=2.4->tensorflow==2.4.1) (2.10)\n",
            "Requirement already satisfied: chardet<4,>=3.0.2 in /usr/local/lib/python3.7/dist-packages (from requests<3,>=2.21.0->tensorboard~=2.4->tensorflow==2.4.1) (3.0.4)\n",
            "Requirement already satisfied: oauthlib>=3.0.0 in /usr/local/lib/python3.7/dist-packages (from requests-oauthlib>=0.7.0->google-auth-oauthlib<0.5,>=0.4.1->tensorboard~=2.4->tensorflow==2.4.1) (3.1.1)\n",
            "Collecting protobuf>=3.9.2\n",
            "  Downloading protobuf-3.13.0-cp37-cp37m-manylinux1_x86_64.whl (1.3 MB)\n",
            "\u001b[K     |████████████████████████████████| 1.3 MB 41.1 MB/s \n",
            "\u001b[?25hCollecting googleapis-common-protos==1.52.0\n",
            "  Downloading googleapis_common_protos-1.52.0-py2.py3-none-any.whl (100 kB)\n",
            "\u001b[K     |████████████████████████████████| 100 kB 8.4 MB/s \n",
            "\u001b[?25hCollecting cirq==0.11.0\n",
            "  Downloading cirq-0.11.0-py3-none-any.whl (7.6 kB)\n",
            "Collecting google-auth<3,>=1.6.3\n",
            "  Downloading google_auth-1.18.0-py2.py3-none-any.whl (90 kB)\n",
            "\u001b[K     |████████████████████████████████| 90 kB 9.0 MB/s \n",
            "\u001b[?25hCollecting sympy==1.5\n",
            "  Downloading sympy-1.5-py2.py3-none-any.whl (5.6 MB)\n",
            "\u001b[K     |████████████████████████████████| 5.6 MB 34.0 MB/s \n",
            "\u001b[?25hCollecting google-api-core==1.21.0\n",
            "  Downloading google_api_core-1.21.0-py2.py3-none-any.whl (90 kB)\n",
            "\u001b[K     |████████████████████████████████| 90 kB 10.7 MB/s \n",
            "\u001b[?25hCollecting cirq-core==0.11.0\n",
            "  Downloading cirq_core-0.11.0-py3-none-any.whl (1.5 MB)\n",
            "\u001b[K     |████████████████████████████████| 1.5 MB 34.8 MB/s \n",
            "\u001b[?25hCollecting cirq-google==0.11.0\n",
            "  Downloading cirq_google-0.11.0-py3-none-any.whl (380 kB)\n",
            "\u001b[K     |████████████████████████████████| 380 kB 57.2 MB/s \n",
            "\u001b[?25hRequirement already satisfied: sortedcontainers~=2.0 in /usr/local/lib/python3.7/dist-packages (from cirq-core==0.11.0->cirq==0.11.0->tensorflow-quantum) (2.4.0)\n",
            "Requirement already satisfied: tqdm in /usr/local/lib/python3.7/dist-packages (from cirq-core==0.11.0->cirq==0.11.0->tensorflow-quantum) (4.62.3)\n",
            "Requirement already satisfied: networkx~=2.4 in /usr/local/lib/python3.7/dist-packages (from cirq-core==0.11.0->cirq==0.11.0->tensorflow-quantum) (2.6.3)\n",
            "Requirement already satisfied: pandas in /usr/local/lib/python3.7/dist-packages (from cirq-core==0.11.0->cirq==0.11.0->tensorflow-quantum) (1.1.5)\n",
            "Requirement already satisfied: matplotlib~=3.0 in /usr/local/lib/python3.7/dist-packages (from cirq-core==0.11.0->cirq==0.11.0->tensorflow-quantum) (3.2.2)\n",
            "Requirement already satisfied: scipy in /usr/local/lib/python3.7/dist-packages (from cirq-core==0.11.0->cirq==0.11.0->tensorflow-quantum) (1.4.1)\n",
            "Requirement already satisfied: google-api-core[grpc]<2.0.0dev,>=1.14.0 in /usr/local/lib/python3.7/dist-packages (from cirq-google==0.11.0->cirq==0.11.0->tensorflow-quantum) (1.26.3)\n",
            "Requirement already satisfied: pytz in /usr/local/lib/python3.7/dist-packages (from google-api-core==1.21.0->tensorflow-quantum) (2018.9)\n",
            "Requirement already satisfied: mpmath>=0.19 in /usr/local/lib/python3.7/dist-packages (from sympy==1.5->tensorflow-quantum) (1.2.1)\n",
            "Collecting google-api-core[grpc]<2.0.0dev,>=1.14.0\n",
            "  Downloading google_api_core-1.31.5-py2.py3-none-any.whl (93 kB)\n",
            "\u001b[K     |████████████████████████████████| 93 kB 1.6 MB/s \n",
            "\u001b[?25h  Downloading google_api_core-1.31.4-py2.py3-none-any.whl (93 kB)\n",
            "\u001b[K     |████████████████████████████████| 93 kB 1.6 MB/s \n",
            "\u001b[?25h  Downloading google_api_core-1.31.3-py2.py3-none-any.whl (93 kB)\n",
            "\u001b[K     |████████████████████████████████| 93 kB 1.6 MB/s \n",
            "\u001b[?25h  Downloading google_api_core-1.31.2-py2.py3-none-any.whl (93 kB)\n",
            "\u001b[K     |████████████████████████████████| 93 kB 1.3 MB/s \n",
            "\u001b[?25h  Downloading google_api_core-1.31.1-py2.py3-none-any.whl (93 kB)\n",
            "\u001b[K     |████████████████████████████████| 93 kB 1.1 MB/s \n",
            "\u001b[?25h  Downloading google_api_core-1.31.0-py2.py3-none-any.whl (93 kB)\n",
            "\u001b[K     |████████████████████████████████| 93 kB 1.4 MB/s \n",
            "\u001b[?25h  Downloading google_api_core-1.30.0-py2.py3-none-any.whl (93 kB)\n",
            "\u001b[K     |████████████████████████████████| 93 kB 1.4 MB/s \n",
            "\u001b[?25h  Downloading google_api_core-1.29.0-py2.py3-none-any.whl (93 kB)\n",
            "\u001b[K     |████████████████████████████████| 93 kB 1.4 MB/s \n",
            "\u001b[?25h  Downloading google_api_core-1.28.0-py2.py3-none-any.whl (92 kB)\n",
            "\u001b[K     |████████████████████████████████| 92 kB 1.1 MB/s \n",
            "\u001b[?25h  Downloading google_api_core-1.27.0-py2.py3-none-any.whl (93 kB)\n",
            "\u001b[K     |████████████████████████████████| 93 kB 1.4 MB/s \n",
            "\u001b[?25h  Downloading google_api_core-1.26.2-py2.py3-none-any.whl (93 kB)\n",
            "\u001b[K     |████████████████████████████████| 93 kB 1.2 MB/s \n",
            "\u001b[?25h  Downloading google_api_core-1.26.1-py2.py3-none-any.whl (92 kB)\n",
            "\u001b[K     |████████████████████████████████| 92 kB 1.2 MB/s \n",
            "\u001b[?25h  Downloading google_api_core-1.26.0-py2.py3-none-any.whl (92 kB)\n",
            "\u001b[K     |████████████████████████████████| 92 kB 970 kB/s \n",
            "\u001b[?25h  Downloading google_api_core-1.25.1-py2.py3-none-any.whl (92 kB)\n",
            "\u001b[K     |████████████████████████████████| 92 kB 239 kB/s \n",
            "\u001b[?25h  Downloading google_api_core-1.25.0-py2.py3-none-any.whl (92 kB)\n",
            "\u001b[K     |████████████████████████████████| 92 kB 155 kB/s \n",
            "\u001b[?25h  Downloading google_api_core-1.24.1-py2.py3-none-any.whl (92 kB)\n",
            "\u001b[K     |████████████████████████████████| 92 kB 10.7 MB/s \n",
            "\u001b[?25h  Downloading google_api_core-1.24.0-py2.py3-none-any.whl (91 kB)\n",
            "\u001b[K     |████████████████████████████████| 91 kB 8.4 MB/s \n",
            "\u001b[?25h  Downloading google_api_core-1.23.0-py2.py3-none-any.whl (91 kB)\n",
            "\u001b[K     |████████████████████████████████| 91 kB 10.7 MB/s \n",
            "\u001b[?25h  Downloading google_api_core-1.22.4-py2.py3-none-any.whl (91 kB)\n",
            "\u001b[K     |████████████████████████████████| 91 kB 7.6 MB/s \n",
            "\u001b[?25h  Downloading google_api_core-1.22.3-py2.py3-none-any.whl (91 kB)\n",
            "\u001b[K     |████████████████████████████████| 91 kB 9.4 MB/s \n",
            "\u001b[?25h  Downloading google_api_core-1.22.2-py2.py3-none-any.whl (91 kB)\n",
            "\u001b[K     |████████████████████████████████| 91 kB 8.7 MB/s \n",
            "\u001b[?25h  Downloading google_api_core-1.22.1-py2.py3-none-any.whl (91 kB)\n",
            "\u001b[K     |████████████████████████████████| 91 kB 8.4 MB/s \n",
            "\u001b[?25h  Downloading google_api_core-1.22.0-py2.py3-none-any.whl (91 kB)\n",
            "\u001b[K     |████████████████████████████████| 91 kB 9.9 MB/s \n",
            "\u001b[?25hRequirement already satisfied: kiwisolver>=1.0.1 in /usr/local/lib/python3.7/dist-packages (from matplotlib~=3.0->cirq-core==0.11.0->cirq==0.11.0->tensorflow-quantum) (1.3.2)\n",
            "Requirement already satisfied: pyparsing!=2.0.4,!=2.1.2,!=2.1.6,>=2.0.1 in /usr/local/lib/python3.7/dist-packages (from matplotlib~=3.0->cirq-core==0.11.0->cirq==0.11.0->tensorflow-quantum) (3.0.7)\n",
            "Requirement already satisfied: cycler>=0.10 in /usr/local/lib/python3.7/dist-packages (from matplotlib~=3.0->cirq-core==0.11.0->cirq==0.11.0->tensorflow-quantum) (0.11.0)\n",
            "Requirement already satisfied: python-dateutil>=2.1 in /usr/local/lib/python3.7/dist-packages (from matplotlib~=3.0->cirq-core==0.11.0->cirq==0.11.0->tensorflow-quantum) (2.8.2)\n",
            "Building wheels for collected packages: wrapt\n",
            "  Building wheel for wrapt (setup.py) ... \u001b[?25l\u001b[?25hdone\n",
            "  Created wheel for wrapt: filename=wrapt-1.12.1-cp37-cp37m-linux_x86_64.whl size=68713 sha256=ee51ba86c3ab341e4d4b84557255f5c787122a75ef52369ae222839b8ed2060e\n",
            "  Stored in directory: /root/.cache/pip/wheels/62/76/4c/aa25851149f3f6d9785f6c869387ad82b3fd37582fa8147ac6\n",
            "Successfully built wrapt\n",
            "Installing collected packages: protobuf, googleapis-common-protos, google-auth, typing-extensions, sympy, grpcio, google-api-core, cirq-core, cirq-google, absl-py, wrapt, tensorflow-estimator, h5py, gast, flatbuffers, cirq, tensorflow-quantum, tensorflow\n",
            "  Attempting uninstall: protobuf\n",
            "    Found existing installation: protobuf 3.17.3\n",
            "    Uninstalling protobuf-3.17.3:\n",
            "      Successfully uninstalled protobuf-3.17.3\n",
            "  Attempting uninstall: googleapis-common-protos\n",
            "    Found existing installation: googleapis-common-protos 1.54.0\n",
            "    Uninstalling googleapis-common-protos-1.54.0:\n",
            "      Successfully uninstalled googleapis-common-protos-1.54.0\n",
            "  Attempting uninstall: google-auth\n",
            "    Found existing installation: google-auth 1.35.0\n",
            "    Uninstalling google-auth-1.35.0:\n",
            "      Successfully uninstalled google-auth-1.35.0\n",
            "  Attempting uninstall: typing-extensions\n",
            "    Found existing installation: typing-extensions 3.10.0.2\n",
            "    Uninstalling typing-extensions-3.10.0.2:\n",
            "      Successfully uninstalled typing-extensions-3.10.0.2\n",
            "  Attempting uninstall: sympy\n",
            "    Found existing installation: sympy 1.7.1\n",
            "    Uninstalling sympy-1.7.1:\n",
            "      Successfully uninstalled sympy-1.7.1\n",
            "  Attempting uninstall: grpcio\n",
            "    Found existing installation: grpcio 1.43.0\n",
            "    Uninstalling grpcio-1.43.0:\n",
            "      Successfully uninstalled grpcio-1.43.0\n",
            "  Attempting uninstall: google-api-core\n",
            "    Found existing installation: google-api-core 1.26.3\n",
            "    Uninstalling google-api-core-1.26.3:\n",
            "      Successfully uninstalled google-api-core-1.26.3\n",
            "  Attempting uninstall: absl-py\n",
            "    Found existing installation: absl-py 1.0.0\n",
            "    Uninstalling absl-py-1.0.0:\n",
            "      Successfully uninstalled absl-py-1.0.0\n",
            "  Attempting uninstall: wrapt\n",
            "    Found existing installation: wrapt 1.13.3\n",
            "    Uninstalling wrapt-1.13.3:\n",
            "      Successfully uninstalled wrapt-1.13.3\n",
            "  Attempting uninstall: tensorflow-estimator\n",
            "    Found existing installation: tensorflow-estimator 2.7.0\n",
            "    Uninstalling tensorflow-estimator-2.7.0:\n",
            "      Successfully uninstalled tensorflow-estimator-2.7.0\n",
            "  Attempting uninstall: h5py\n",
            "    Found existing installation: h5py 3.1.0\n",
            "    Uninstalling h5py-3.1.0:\n",
            "      Successfully uninstalled h5py-3.1.0\n",
            "  Attempting uninstall: gast\n",
            "    Found existing installation: gast 0.4.0\n",
            "    Uninstalling gast-0.4.0:\n",
            "      Successfully uninstalled gast-0.4.0\n",
            "  Attempting uninstall: flatbuffers\n",
            "    Found existing installation: flatbuffers 2.0\n",
            "    Uninstalling flatbuffers-2.0:\n",
            "      Successfully uninstalled flatbuffers-2.0\n",
            "  Attempting uninstall: tensorflow\n",
            "    Found existing installation: tensorflow 2.7.0\n",
            "    Uninstalling tensorflow-2.7.0:\n",
            "      Successfully uninstalled tensorflow-2.7.0\n",
            "\u001b[31mERROR: pip's dependency resolver does not currently take into account all the packages that are installed. This behaviour is the source of the following dependency conflicts.\n",
            "pydata-google-auth 1.3.0 requires google-auth<3.0dev,>=1.25.0; python_version >= \"3.6\", but you have google-auth 1.18.0 which is incompatible.\u001b[0m\n",
            "Successfully installed absl-py-0.15.0 cirq-0.11.0 cirq-core-0.11.0 cirq-google-0.11.0 flatbuffers-1.12 gast-0.3.3 google-api-core-1.21.0 google-auth-1.18.0 googleapis-common-protos-1.52.0 grpcio-1.32.0 h5py-2.10.0 protobuf-3.13.0 sympy-1.5 tensorflow-2.4.1 tensorflow-estimator-2.4.0 tensorflow-quantum-0.5.1 typing-extensions-3.7.4.3 wrapt-1.12.1\n"
          ]
        },
        {
          "output_type": "display_data",
          "data": {
            "application/vnd.colab-display-data+json": {
              "pip_warning": {
                "packages": [
                  "google"
                ]
              }
            }
          },
          "metadata": {}
        }
      ]
    },
    {
      "cell_type": "code",
      "metadata": {
        "id": "QStNslxBwgte"
      },
      "source": [
        "!pip install -q git+https://github.com/tensorflow/docs"
      ],
      "execution_count": 1,
      "outputs": []
    },
    {
      "cell_type": "code",
      "execution_count": 2,
      "metadata": {
        "id": "4Ql5PW-ACO0J",
        "colab": {
          "base_uri": "https://localhost:8080/"
        },
        "outputId": "840a574e-d8d2-4650-d149-84a5eb400161"
      },
      "outputs": [
        {
          "output_type": "execute_result",
          "data": {
            "text/plain": [
              "<module 'pkg_resources' from '/usr/local/lib/python3.7/dist-packages/pkg_resources/__init__.py'>"
            ]
          },
          "metadata": {},
          "execution_count": 2
        }
      ],
      "source": [
        "# Update package resources to account for version changes.\n",
        "import importlib, pkg_resources\n",
        "importlib.reload(pkg_resources)"
      ]
    },
    {
      "cell_type": "code",
      "metadata": {
        "id": "iRU07S4o8B52"
      },
      "source": [
        "import random\n",
        "import cirq\n",
        "import sympy\n",
        "import tensorflow_quantum as tfq\n",
        "import tensorflow as tf\n",
        "import numpy as np\n",
        "# Plotting\n",
        "import matplotlib.pyplot as plt\n",
        "import tensorflow_docs as tfdocs\n",
        "import tensorflow_docs.plots"
      ],
      "execution_count": 3,
      "outputs": []
    },
    {
      "cell_type": "markdown",
      "metadata": {
        "id": "CVnAGxZyruv8"
      },
      "source": [
        "## 1. Understanding quantum noise\n",
        "\n",
        "### 1.1 Basic circuit noise\n",
        "\n",
        "Noise on a quantum computer impacts the bitstring samples you are able to measure from it. One intuitive way you can start to think about this is that a noisy quantum computer will \"insert\", \"delete\" or \"replace\" gates in random places like the diagram below:\n",
        "\n",
        "<img src=\"https://github.com/tensorflow/quantum/blob/master/docs/tutorials/images/noise_1.png?raw=1\" width=700>\n",
        "\n",
        "Building off of this intuition, when dealing with noise, you are no longer using a single pure state $|\\psi \\rangle$ but instead dealing with an *ensemble* of all possible noisy realizations of your desired circuit: $\\rho = \\sum_j p_j |\\psi_j \\rangle \\langle \\psi_j |$ . Where $p_j$ gives the probability that the system is in $|\\psi_j \\rangle$ .\n",
        "\n",
        "Revisiting the above picture, if we knew beforehand that 90% of the time our system executed perfectly, or errored 10% of the time with just this one mode of failure, then our ensemble would be: \n",
        "\n",
        "$\\rho = 0.9 |\\psi_\\text{desired} \\rangle \\langle \\psi_\\text{desired}| + 0.1 |\\psi_\\text{noisy} \\rangle \\langle \\psi_\\text{noisy}| $\n",
        "\n",
        "If there was more than just one way that our circuit could error, then the ensemble $\\rho$ would contain more than just two terms (one for each new noisy realization that could happen). $\\rho$ is referred to as the [density matrix](https://en.wikipedia.org/wiki/Density_matrix) describing your noisy system.\n",
        "\n",
        "### 1.2 Using channels to model circuit noise\n",
        "\n",
        "Unfortunately in practice it's nearly impossible to know all the ways your circuit might error and their exact probabilities. A simplifying assumption you can make is that after each operation in your circuit there is some kind of [channel](https://quantumai.google/cirq/noise) that roughly captures how that operation might error. You can quickly create a circuit with some noise:"
      ]
    },
    {
      "cell_type": "code",
      "metadata": {
        "id": "Eu_vpHbfrQKQ",
        "colab": {
          "base_uri": "https://localhost:8080/",
          "height": 69
        },
        "outputId": "182f4c2b-9184-4483-dd96-7b28ec849ebf"
      },
      "source": [
        "def x_circuit(qubits):\n",
        "  \"\"\"Produces an X wall circuit on `qubits`.\"\"\"\n",
        "  return cirq.Circuit(cirq.X.on_each(*qubits))\n",
        "\n",
        "def make_noisy(circuit, p):\n",
        "  \"\"\"Add a depolarization channel to all qubits in `circuit` before measurement.\"\"\"\n",
        "  return circuit + cirq.Circuit(cirq.depolarize(p).on_each(*circuit.all_qubits()))\n",
        "\n",
        "my_qubits = cirq.GridQubit.rect(1, 2)\n",
        "my_circuit = x_circuit(my_qubits)\n",
        "my_noisy_circuit = make_noisy(my_circuit, 0.5)\n",
        "my_circuit"
      ],
      "execution_count": 4,
      "outputs": [
        {
          "output_type": "execute_result",
          "data": {
            "text/html": [
              "<pre style=\"overflow: auto; white-space: pre;\">(0, 0): ───X───\n",
              "\n",
              "(0, 1): ───X───</pre>"
            ],
            "text/plain": [
              "(0, 0): ───X───\n",
              "\n",
              "(0, 1): ───X───"
            ]
          },
          "metadata": {},
          "execution_count": 4
        }
      ]
    },
    {
      "cell_type": "code",
      "metadata": {
        "id": "1B7vmyPm_TQ7",
        "colab": {
          "base_uri": "https://localhost:8080/",
          "height": 69
        },
        "outputId": "a58f33ba-d6a1-4bb5-ea51-16406a65177e"
      },
      "source": [
        "my_noisy_circuit"
      ],
      "execution_count": 5,
      "outputs": [
        {
          "output_type": "execute_result",
          "data": {
            "text/html": [
              "<pre style=\"overflow: auto; white-space: pre;\">(0, 0): ───X───D(0.5)───\n",
              "\n",
              "(0, 1): ───X───D(0.5)───</pre>"
            ],
            "text/plain": [
              "(0, 0): ───X───D(0.5)───\n",
              "\n",
              "(0, 1): ───X───D(0.5)───"
            ]
          },
          "metadata": {},
          "execution_count": 5
        }
      ]
    },
    {
      "cell_type": "markdown",
      "metadata": {
        "id": "EejhXc2e9Cl8"
      },
      "source": [
        "You can examine the noiseless density matrix $\\rho$ with:"
      ]
    },
    {
      "cell_type": "code",
      "metadata": {
        "id": "0QN9W69U8v_V",
        "colab": {
          "base_uri": "https://localhost:8080/"
        },
        "outputId": "04e29595-0bf5-4967-d753-3e018afdb456"
      },
      "source": [
        "rho = cirq.final_density_matrix(my_circuit)\n",
        "np.round(rho, 3)"
      ],
      "execution_count": 6,
      "outputs": [
        {
          "output_type": "execute_result",
          "data": {
            "text/plain": [
              "array([[0.+0.j, 0.+0.j, 0.+0.j, 0.+0.j],\n",
              "       [0.+0.j, 0.+0.j, 0.+0.j, 0.+0.j],\n",
              "       [0.+0.j, 0.+0.j, 0.+0.j, 0.+0.j],\n",
              "       [0.+0.j, 0.+0.j, 0.+0.j, 1.+0.j]], dtype=complex64)"
            ]
          },
          "metadata": {},
          "execution_count": 6
        }
      ]
    },
    {
      "cell_type": "markdown",
      "metadata": {
        "id": "RHHBeizr-DEo"
      },
      "source": [
        "And the noisy density matrix $\\rho$ with:\n"
      ]
    },
    {
      "cell_type": "code",
      "metadata": {
        "id": "zSD9H8SC9IJ1",
        "colab": {
          "base_uri": "https://localhost:8080/"
        },
        "outputId": "b310807e-0608-4965-8459-2b21c7802885"
      },
      "source": [
        "rho = cirq.final_density_matrix(my_noisy_circuit)\n",
        "np.round(rho, 3)"
      ],
      "execution_count": 7,
      "outputs": [
        {
          "output_type": "execute_result",
          "data": {
            "text/plain": [
              "array([[0.111+0.j, 0.   +0.j, 0.   +0.j, 0.   +0.j],\n",
              "       [0.   +0.j, 0.222+0.j, 0.   +0.j, 0.   +0.j],\n",
              "       [0.   +0.j, 0.   +0.j, 0.222+0.j, 0.   +0.j],\n",
              "       [0.   +0.j, 0.   +0.j, 0.   +0.j, 0.444+0.j]], dtype=complex64)"
            ]
          },
          "metadata": {},
          "execution_count": 7
        }
      ]
    },
    {
      "cell_type": "markdown",
      "metadata": {
        "id": "2YWiejLl-a0Z"
      },
      "source": [
        "Comparing the two different $ \\rho $ 's you can see that the noise has impacted the amplitudes of the state (and consequently sampling probabilities). In the noiseless case you would always expect to sample the $ |11\\rangle $ state. But in the noisy state there is now a nonzero probability of sampling $ |00\\rangle $ or $ |01\\rangle $ or $ |10\\rangle $ as well:"
      ]
    },
    {
      "cell_type": "code",
      "metadata": {
        "id": "Z4uj-Zs0AE3n",
        "colab": {
          "base_uri": "https://localhost:8080/",
          "height": 350
        },
        "outputId": "c33e4d9f-fe59-4874-d19d-2295bf64a82a"
      },
      "source": [
        "\"\"\"Sample from my_noisy_circuit.\"\"\"\n",
        "def plot_samples(circuit):\n",
        "  samples = cirq.sample(circuit + cirq.measure(*circuit.all_qubits(), key='bits'), repetitions=1000)\n",
        "  freqs, _ = np.histogram(samples.data['bits'], bins=[i+0.01 for i in range(-1,2** len(my_qubits))])\n",
        "  plt.figure(figsize=(10,5))\n",
        "  plt.title('Noisy Circuit Sampling')\n",
        "  plt.xlabel('Bitstring')\n",
        "  plt.ylabel('Frequency')\n",
        "  plt.bar([i for i in range(2** len(my_qubits))], freqs, tick_label=['00','01','10','11'])\n",
        "\n",
        "plot_samples(my_noisy_circuit)"
      ],
      "execution_count": 8,
      "outputs": [
        {
          "output_type": "display_data",
          "data": {
            "image/png": "[encoded data removed]",
            "text/plain": [
              "<Figure size 720x360 with 1 Axes>"
            ]
          },
          "metadata": {
            "needs_background": "light"
          }
        }
      ]
    },
    {
      "cell_type": "markdown",
      "metadata": {
        "id": "IpPh1Y0HEOWs"
      },
      "source": [
        "Without any noise you will always get $|11\\rangle$:"
      ]
    },
    {
      "cell_type": "code",
      "metadata": {
        "id": "NRCOhTVpEJzz",
        "colab": {
          "base_uri": "https://localhost:8080/",
          "height": 350
        },
        "outputId": "78998062-7c2e-4362-9edc-d41e71ea52d5"
      },
      "source": [
        "\"\"\"Sample from my_circuit.\"\"\"\n",
        "plot_samples(my_circuit)"
      ],
      "execution_count": 9,
      "outputs": [
        {
          "output_type": "display_data",
          "data": {
            "image/png": "[encoded data removed]",
            "text/plain": [
              "<Figure size 720x360 with 1 Axes>"
            ]
          },
          "metadata": {
            "needs_background": "light"
          }
        }
      ]
    },
    {
      "cell_type": "markdown",
      "metadata": {
        "id": "EMbJBXAiT9GH"
      },
      "source": [
        "If you increase the noise a little further it will become harder and harder to distinguish the desired behavior (sampling $|11\\rangle$ ) from the noise:"
      ]
    },
    {
      "cell_type": "code",
      "metadata": {
        "id": "D2Fg-FUdUJQx",
        "colab": {
          "base_uri": "https://localhost:8080/",
          "height": 350
        },
        "outputId": "636cc19a-bfc4-4590-adfd-02e8c27742a0"
      },
      "source": [
        "my_really_noisy_circuit = make_noisy(my_circuit, 0.75)\n",
        "plot_samples(my_really_noisy_circuit)"
      ],
      "execution_count": 10,
      "outputs": [
        {
          "output_type": "display_data",
          "data": {
            "image/png": "[encoded data removed]",
            "text/plain": [
              "<Figure size 720x360 with 1 Axes>"
            ]
          },
          "metadata": {
            "needs_background": "light"
          }
        }
      ]
    },
    {
      "cell_type": "markdown",
      "metadata": {
        "id": "oV-0WV5Z7FQ8"
      },
      "source": [
        "Note: Try experimenting with different channels in your circuit to generate noise. Common channels supported in both Cirq and TFQ can be found [here](https://github.com/quantumlib/Cirq/blob/master/cirq-core/cirq/ops/common_channels.py)"
      ]
    },
    {
      "cell_type": "markdown",
      "metadata": {
        "id": "atzsYj5qScn0"
      },
      "source": [
        "## 2. Basic noise in TFQ\n",
        "With this understanding of how noise can impact circuit execution, you can explore how noise works in TFQ. TensorFlow Quantum uses monte-carlo / trajectory based simulation as an alternative to density matrix simulation. This is because the memory complexity of density matrix simulation limits large simulations to being <= 20 qubits with traditional full density matrix simulation methods. Monte-carlo / trajectory trades this cost in memory for additional cost in time. The `backend='noisy'` option available to all `tfq.layers.Sample`, `tfq.layers.SampledExpectation` and `tfq.layers.Expectation` (In the case of `Expectation` this does add a required `repetitions` parameter).\n",
        "\n",
        "### 2.1 Noisy sampling in TFQ\n",
        "To recreate the above plots using TFQ and trajectory simulation you can use `tfq.layers.Sample`"
      ]
    },
    {
      "cell_type": "code",
      "metadata": {
        "id": "byVI5nbNQ4_b"
      },
      "source": [
        "\"\"\"Draw bitstring samples from `my_noisy_circuit`\"\"\"\n",
        "bitstrings = tfq.layers.Sample(backend='noisy')(my_noisy_circuit, repetitions=1000)"
      ],
      "execution_count": 11,
      "outputs": []
    },
    {
      "cell_type": "code",
      "metadata": {
        "id": "ncl0ruCZrd2s",
        "colab": {
          "base_uri": "https://localhost:8080/",
          "height": 368
        },
        "outputId": "9c137131-fb27-469e-f07b-c8252383bbd5"
      },
      "source": [
        "numeric_values = np.einsum('ijk,k->ij', bitstrings.to_tensor().numpy(), [1, 2])[0]\n",
        "freqs, _ = np.histogram(numeric_values, bins=[i+0.01 for i in range(-1,2** len(my_qubits))])\n",
        "plt.figure(figsize=(10,5))\n",
        "plt.title('Noisy Circuit Sampling')\n",
        "plt.xlabel('Bitstring')\n",
        "plt.ylabel('Frequency')\n",
        "plt.bar([i for i in range(2** len(my_qubits))], freqs, tick_label=['00','01','10','11'])"
      ],
      "execution_count": 12,
      "outputs": [
        {
          "output_type": "execute_result",
          "data": {
            "text/plain": [
              "<BarContainer object of 4 artists>"
            ]
          },
          "metadata": {},
          "execution_count": 12
        },
        {
          "output_type": "display_data",
          "data": {
            "image/png": "[encoded data removed]",
            "text/plain": [
              "<Figure size 720x360 with 1 Axes>"
            ]
          },
          "metadata": {
            "needs_background": "light"
          }
        }
      ]
    },
    {
      "cell_type": "markdown",
      "metadata": {
        "id": "QfHq13RwuLlF"
      },
      "source": [
        "### 2.2 Noisy sample based expectation\n",
        "To do noisy sample based expectation calculation you can use `tfq.layers.SampleExpectation`:\n"
      ]
    },
    {
      "cell_type": "code",
      "metadata": {
        "id": "ep45G-09rfrA",
        "colab": {
          "base_uri": "https://localhost:8080/"
        },
        "outputId": "d100123e-c847-4dc2-87d7-8a108f82d0b7"
      },
      "source": [
        "some_observables = [cirq.X(my_qubits[0]), cirq.Z(my_qubits[0]), 3.0 * cirq.Y(my_qubits[1]) + 1]\n",
        "some_observables"
      ],
      "execution_count": 13,
      "outputs": [
        {
          "output_type": "execute_result",
          "data": {
            "text/plain": [
              "[X((0, 0)),\n",
              " Z((0, 0)),\n",
              " cirq.PauliSum(cirq.LinearDict({frozenset({(cirq.GridQubit(0, 1), cirq.Y)}): (3+0j), frozenset(): (1+0j)}))]"
            ]
          },
          "metadata": {},
          "execution_count": 13
        }
      ]
    },
    {
      "cell_type": "markdown",
      "metadata": {
        "id": "ur4iF_PGv0Xf"
      },
      "source": [
        "Compute the noiseless expectation estimates via sampling from the circuit:"
      ]
    },
    {
      "cell_type": "code",
      "metadata": {
        "id": "jL6wJ3LCvNcn",
        "colab": {
          "base_uri": "https://localhost:8080/"
        },
        "outputId": "232f48b0-559f-44ca-e9f0-8124815fd250"
      },
      "source": [
        "noiseless_sampled_expectation = tfq.layers.SampledExpectation(backend='noiseless')(\n",
        "    my_circuit, operators=some_observables, repetitions=10000\n",
        ")\n",
        "noiseless_sampled_expectation.numpy()"
      ],
      "execution_count": 14,
      "outputs": [
        {
          "output_type": "execute_result",
          "data": {
            "text/plain": [
              "array([[-0.0042    , -1.        ,  0.97179997]], dtype=float32)"
            ]
          },
          "metadata": {},
          "execution_count": 14
        }
      ]
    },
    {
      "cell_type": "markdown",
      "metadata": {
        "id": "c6hHgNtEv40i"
      },
      "source": [
        "Compare those with the noisy versions:"
      ]
    },
    {
      "cell_type": "code",
      "metadata": {
        "id": "8U4Gm-LGvYqa",
        "colab": {
          "base_uri": "https://localhost:8080/"
        },
        "outputId": "4b04615d-5a79-4e62-d3f9-60ce3e20805e"
      },
      "source": [
        "noisy_sampled_expectation = tfq.layers.SampledExpectation(backend='noisy')(\n",
        "    [my_noisy_circuit, my_really_noisy_circuit], operators=some_observables, repetitions=10000\n",
        ")\n",
        "noisy_sampled_expectation.numpy()"
      ],
      "execution_count": 15,
      "outputs": [
        {
          "output_type": "execute_result",
          "data": {
            "text/plain": [
              "array([[-1.2400000e-02, -3.4360000e-01,  1.0138000e+00],\n",
              "       [ 6.7999996e-03,  8.0000004e-04,  1.0006000e+00]], dtype=float32)"
            ]
          },
          "metadata": {},
          "execution_count": 15
        }
      ]
    },
    {
      "cell_type": "markdown",
      "metadata": {
        "id": "CqQ_2c7XwMku"
      },
      "source": [
        "You can see that the noise has particularly impacted the $\\langle \\psi | Z | \\psi \\rangle$ accuracy, with `my_really_noisy_circuit` concentrating very quickly towards 0.\n",
        "\n",
        "### 2.3 Noisy analytic expectation calculation\n",
        "Doing noisy analytic expectation calculations is nearly identical to above:\n",
        "\n"
      ]
    },
    {
      "cell_type": "code",
      "metadata": {
        "id": "pGXKlyCywAfj",
        "colab": {
          "base_uri": "https://localhost:8080/"
        },
        "outputId": "d254a2ba-c6aa-45fd-9c86-f0518e8eb826"
      },
      "source": [
        "noiseless_analytic_expectation = tfq.layers.Expectation(backend='noiseless')(\n",
        "    my_circuit, operators=some_observables\n",
        ")\n",
        "noiseless_analytic_expectation.numpy()"
      ],
      "execution_count": 16,
      "outputs": [
        {
          "output_type": "execute_result",
          "data": {
            "text/plain": [
              "array([[ 1.9106853e-15, -1.0000000e+00,  1.0000002e+00]], dtype=float32)"
            ]
          },
          "metadata": {},
          "execution_count": 16
        }
      ]
    },
    {
      "cell_type": "code",
      "metadata": {
        "id": "6FUkJ7aOyTlI",
        "colab": {
          "base_uri": "https://localhost:8080/"
        },
        "outputId": "9f253c2a-a40c-4b08-e678-41352aaa412a"
      },
      "source": [
        "noisy_analytic_expectation = tfq.layers.Expectation(backend='noisy')(\n",
        "    [my_noisy_circuit, my_really_noisy_circuit], operators=some_observables, repetitions=10000\n",
        ")\n",
        "noisy_analytic_expectation.numpy()"
      ],
      "execution_count": 17,
      "outputs": [
        {
          "output_type": "execute_result",
          "data": {
            "text/plain": [
              "array([[ 1.9106855e-15, -3.1959999e-01,  1.0000001e+00],\n",
              "       [ 1.9106855e-15, -2.0000001e-04,  1.0000000e+00]], dtype=float32)"
            ]
          },
          "metadata": {},
          "execution_count": 17
        }
      ]
    },
    {
      "cell_type": "markdown",
      "metadata": {
        "id": "5KHvORT42XFV"
      },
      "source": [
        "## 3. Hybrid models and quantum data noise\n",
        "Now that you have implemented some noisy circuit simulations in TFQ, you can experiment with how noise impacts quantum and hybrid quantum classical models, by comparing and contrasting their noisy vs noiseless performance. A good first check to see if a model or algorithm is robust to noise is to test under a circuit wide depolarizing model which looks something like this:\n",
        "\n",
        "<img src=\"https://github.com/tensorflow/quantum/blob/master/docs/tutorials/images/noise_2.png?raw=1\" width=500>\n",
        "\n",
        "Where each time slice of the circuit (sometimes referred to as moment) has a depolarizing channel appended after each gate operation in that time slice. The depolarizing channel with apply one of $\\{X, Y, Z \\}$ with probability $p$ or apply nothing (keep the original operation) with probability $1-p$.\n",
        "\n",
        "### 3.1 Data\n",
        "For this example you can use some prepared circuits in the `tfq.datasets` module as training data:"
      ]
    },
    {
      "cell_type": "code",
      "metadata": {
        "id": "_ZqVLEji2WUx",
        "colab": {
          "base_uri": "https://localhost:8080/",
          "height": 365
        },
        "outputId": "46c0baa6-3167-4987-fa8d-ed02a06762f1"
      },
      "source": [
        "qubits = cirq.GridQubit.rect(1, 8)\n",
        "circuits, labels, pauli_sums, _ = tfq.datasets.xxz_chain(qubits, 'closed')\n",
        "circuits[0]"
      ],
      "execution_count": 18,
      "outputs": [
        {
          "output_type": "stream",
          "name": "stdout",
          "text": [
            "Downloading data from https://storage.googleapis.com/download.tensorflow.org/data/quantum/spin_systems/XXZ_chain.zip \n",
            "184451072/184449737 [==============================] - 2s 0us/step\n"
          ]
        },
        {
          "output_type": "execute_result",
          "data": {
            "text/html": [
              "<pre style=\"overflow: auto; white-space: pre;\">                       ┌──────────────────┐   ┌──────────────────────┐   ┌──────────────────────┐                                       ┌──────────────────┐   ┌──────────────────┐   ┌──────────────────┐                                        ┌──────────────────┐   ┌──────────────────┐   ┌──────────────────┐                                        ┌──────────────────┐   ┌──────────────────┐   ┌──────────────────┐\n",
              "(0, 0): ───X───H───@─────────────ZZ───────────────────────YY─────────────────────────XX─────────────ZZ──────────YY──────────XX────────────────────ZZ─────────────────────YY─────────────────────XX───────────ZZ─────────YY───────────XX─────────────────────ZZ─────────────────────YY─────────────────────XX───────────ZZ─────────YY───────────XX─────────────────────ZZ─────────────────────YY─────────────────────XX───────────ZZ──────────YY──────────XX──────────\n",
              "                   │             │                        │                          │              │           │           │                     │                      │                      │            │          │            │                      │                      │                      │            │          │            │                      │                      │                      │            │           │           │\n",
              "(0, 1): ───X───────X────ZZ───────┼─────────────YY─────────┼───────────────XX─────────┼──────────────ZZ^-0.941───YY^-0.767───XX^-0.767────ZZ───────┼─────────────YY───────┼─────────────XX───────┼────────────ZZ^-0.98───YY^(-9/11)───XX^(-9/11)────ZZ───────┼─────────────YY───────┼─────────────XX───────┼────────────ZZ^-0.98───YY^(-9/11)───XX^(-9/11)────ZZ───────┼─────────────YY───────┼─────────────XX───────┼────────────ZZ^-0.985───YY^-0.901───XX^-0.901───\n",
              "                        │        │             │          │               │          │                                                   │        │             │        │             │        │                                                  │        │             │        │             │        │                                                  │        │             │        │             │        │\n",
              "(0, 2): ───X───H───@────ZZ^-0.977┼─────────────YY^(-10/11)┼───────────────XX^(-10/11)┼──────────────ZZ──────────YY──────────XX───────────ZZ^-0.968┼─────────────YY^-0.898┼─────────────XX^-0.898┼────────────ZZ─────────YY───────────XX────────────ZZ^-0.962┼─────────────YY^-0.869┼─────────────XX^-0.869┼────────────ZZ─────────YY───────────XX────────────ZZ^-0.954┼─────────────YY^-0.904┼─────────────XX^-0.904┼────────────ZZ──────────YY──────────XX──────────\n",
              "                   │             │                        │                          │              │           │           │                     │                      │                      │            │          │            │                      │                      │                      │            │          │            │                      │                      │                      │            │           │           │\n",
              "(0, 3): ───X───────X────ZZ───────┼─────────────YY─────────┼───────────────XX─────────┼──────────────ZZ^-0.941───YY^-0.767───XX^-0.767────ZZ───────┼─────────────YY───────┼─────────────XX───────┼────────────ZZ^-0.98───YY^(-9/11)───XX^(-9/11)────ZZ───────┼─────────────YY───────┼─────────────XX───────┼────────────ZZ^-0.98───YY^(-9/11)───XX^(-9/11)────ZZ───────┼─────────────YY───────┼─────────────XX───────┼────────────ZZ^-0.985───YY^-0.901───XX^-0.901───\n",
              "                        │        │             │          │               │          │                                                   │        │             │        │             │        │                                                  │        │             │        │             │        │                                                  │        │             │        │             │        │\n",
              "(0, 4): ───X───H───@────ZZ^-0.977┼─────────────YY^(-10/11)┼───────────────XX^(-10/11)┼──────────────ZZ──────────YY──────────XX───────────ZZ^-0.968┼─────────────YY^-0.898┼─────────────XX^-0.898┼────────────ZZ─────────YY───────────XX────────────ZZ^-0.962┼─────────────YY^-0.869┼─────────────XX^-0.869┼────────────ZZ─────────YY───────────XX────────────ZZ^-0.954┼─────────────YY^-0.904┼─────────────XX^-0.904┼────────────ZZ──────────YY──────────XX──────────\n",
              "                   │             │                        │                          │              │           │           │                     │                      │                      │            │          │            │                      │                      │                      │            │          │            │                      │                      │                      │            │           │           │\n",
              "(0, 5): ───X───────X────ZZ───────┼─────────────YY─────────┼───────────────XX─────────┼──────────────ZZ^-0.941───YY^-0.767───XX^-0.767────ZZ───────┼─────────────YY───────┼─────────────XX───────┼────────────ZZ^-0.98───YY^(-9/11)───XX^(-9/11)────ZZ───────┼─────────────YY───────┼─────────────XX───────┼────────────ZZ^-0.98───YY^(-9/11)───XX^(-9/11)────ZZ───────┼─────────────YY───────┼─────────────XX───────┼────────────ZZ^-0.985───YY^-0.901───XX^-0.901───\n",
              "                        │        │             │          │               │          │                                                   │        │             │        │             │        │                                                  │        │             │        │             │        │                                                  │        │             │        │             │        │\n",
              "(0, 6): ───X───H───@────ZZ^-0.977┼─────────────YY^(-10/11)┼───────────────XX^(-10/11)┼──────────────ZZ──────────YY──────────XX───────────ZZ^-0.968┼─────────────YY^-0.898┼─────────────XX^-0.898┼────────────ZZ─────────YY───────────XX────────────ZZ^-0.962┼─────────────YY^-0.869┼─────────────XX^-0.869┼────────────ZZ─────────YY───────────XX────────────ZZ^-0.954┼─────────────YY^-0.904┼─────────────XX^-0.904┼────────────ZZ──────────YY──────────XX──────────\n",
              "                   │             │                        │                          │              │           │           │                     │                      │                      │            │          │            │                      │                      │                      │            │          │            │                      │                      │                      │            │           │           │\n",
              "(0, 7): ───X───────X─────────────ZZ^-0.977────────────────YY^(-10/11)────────────────XX^(-10/11)────ZZ^-0.941───YY^-0.767───XX^-0.767─────────────ZZ^-0.968──────────────YY^-0.898──────────────XX^-0.898────ZZ^-0.98───YY^(-9/11)───XX^(-9/11)─────────────ZZ^-0.962──────────────YY^-0.869──────────────XX^-0.869────ZZ^-0.98───YY^(-9/11)───XX^(-9/11)─────────────ZZ^-0.954──────────────YY^-0.904──────────────XX^-0.904────ZZ^-0.985───YY^-0.901───XX^-0.901───\n",
              "                       └──────────────────┘   └──────────────────────┘   └──────────────────────┘                                       └──────────────────┘   └──────────────────┘   └──────────────────┘                                        └──────────────────┘   └──────────────────┘   └──────────────────┘                                        └──────────────────┘   └──────────────────┘   └──────────────────┘</pre>"
            ],
            "text/plain": [
              "                       ┌──────────────────┐   ┌──────────────────────┐   ┌──────────────────────┐                                       ┌──────────────────┐   ┌──────────────────┐   ┌──────────────────┐                                        ┌──────────────────┐   ┌──────────────────┐   ┌──────────────────┐                                        ┌──────────────────┐   ┌──────────────────┐   ┌──────────────────┐\n",
              "(0, 0): ───X───H───@─────────────ZZ───────────────────────YY─────────────────────────XX─────────────ZZ──────────YY──────────XX────────────────────ZZ─────────────────────YY─────────────────────XX───────────ZZ─────────YY───────────XX─────────────────────ZZ─────────────────────YY─────────────────────XX───────────ZZ─────────YY───────────XX─────────────────────ZZ─────────────────────YY─────────────────────XX───────────ZZ──────────YY──────────XX──────────\n",
              "                   │             │                        │                          │              │           │           │                     │                      │                      │            │          │            │                      │                      │                      │            │          │            │                      │                      │                      │            │           │           │\n",
              "(0, 1): ───X───────X────ZZ───────┼─────────────YY─────────┼───────────────XX─────────┼──────────────ZZ^-0.941───YY^-0.767───XX^-0.767────ZZ───────┼─────────────YY───────┼─────────────XX───────┼────────────ZZ^-0.98───YY^(-9/11)───XX^(-9/11)────ZZ───────┼─────────────YY───────┼─────────────XX───────┼────────────ZZ^-0.98───YY^(-9/11)───XX^(-9/11)────ZZ───────┼─────────────YY───────┼─────────────XX───────┼────────────ZZ^-0.985───YY^-0.901───XX^-0.901───\n",
              "                        │        │             │          │               │          │                                                   │        │             │        │             │        │                                                  │        │             │        │             │        │                                                  │        │             │        │             │        │\n",
              "(0, 2): ───X───H───@────ZZ^-0.977┼─────────────YY^(-10/11)┼───────────────XX^(-10/11)┼──────────────ZZ──────────YY──────────XX───────────ZZ^-0.968┼─────────────YY^-0.898┼─────────────XX^-0.898┼────────────ZZ─────────YY───────────XX────────────ZZ^-0.962┼─────────────YY^-0.869┼─────────────XX^-0.869┼────────────ZZ─────────YY───────────XX────────────ZZ^-0.954┼─────────────YY^-0.904┼─────────────XX^-0.904┼────────────ZZ──────────YY──────────XX──────────\n",
              "                   │             │                        │                          │              │           │           │                     │                      │                      │            │          │            │                      │                      │                      │            │          │            │                      │                      │                      │            │           │           │\n",
              "(0, 3): ───X───────X────ZZ───────┼─────────────YY─────────┼───────────────XX─────────┼──────────────ZZ^-0.941───YY^-0.767───XX^-0.767────ZZ───────┼─────────────YY───────┼─────────────XX───────┼────────────ZZ^-0.98───YY^(-9/11)───XX^(-9/11)────ZZ───────┼─────────────YY───────┼─────────────XX───────┼────────────ZZ^-0.98───YY^(-9/11)───XX^(-9/11)────ZZ───────┼─────────────YY───────┼─────────────XX───────┼────────────ZZ^-0.985───YY^-0.901───XX^-0.901───\n",
              "                        │        │             │          │               │          │                                                   │        │             │        │             │        │                                                  │        │             │        │             │        │                                                  │        │             │        │             │        │\n",
              "(0, 4): ───X───H───@────ZZ^-0.977┼─────────────YY^(-10/11)┼───────────────XX^(-10/11)┼──────────────ZZ──────────YY──────────XX───────────ZZ^-0.968┼─────────────YY^-0.898┼─────────────XX^-0.898┼────────────ZZ─────────YY───────────XX────────────ZZ^-0.962┼─────────────YY^-0.869┼─────────────XX^-0.869┼────────────ZZ─────────YY───────────XX────────────ZZ^-0.954┼─────────────YY^-0.904┼─────────────XX^-0.904┼────────────ZZ──────────YY──────────XX──────────\n",
              "                   │             │                        │                          │              │           │           │                     │                      │                      │            │          │            │                      │                      │                      │            │          │            │                      │                      │                      │            │           │           │\n",
              "(0, 5): ───X───────X────ZZ───────┼─────────────YY─────────┼───────────────XX─────────┼──────────────ZZ^-0.941───YY^-0.767───XX^-0.767────ZZ───────┼─────────────YY───────┼─────────────XX───────┼────────────ZZ^-0.98───YY^(-9/11)───XX^(-9/11)────ZZ───────┼─────────────YY───────┼─────────────XX───────┼────────────ZZ^-0.98───YY^(-9/11)───XX^(-9/11)────ZZ───────┼─────────────YY───────┼─────────────XX───────┼────────────ZZ^-0.985───YY^-0.901───XX^-0.901───\n",
              "                        │        │             │          │               │          │                                                   │        │             │        │             │        │                                                  │        │             │        │             │        │                                                  │        │             │        │             │        │\n",
              "(0, 6): ───X───H───@────ZZ^-0.977┼─────────────YY^(-10/11)┼───────────────XX^(-10/11)┼──────────────ZZ──────────YY──────────XX───────────ZZ^-0.968┼─────────────YY^-0.898┼─────────────XX^-0.898┼────────────ZZ─────────YY───────────XX────────────ZZ^-0.962┼─────────────YY^-0.869┼─────────────XX^-0.869┼────────────ZZ─────────YY───────────XX────────────ZZ^-0.954┼─────────────YY^-0.904┼─────────────XX^-0.904┼────────────ZZ──────────YY──────────XX──────────\n",
              "                   │             │                        │                          │              │           │           │                     │                      │                      │            │          │            │                      │                      │                      │            │          │            │                      │                      │                      │            │           │           │\n",
              "(0, 7): ───X───────X─────────────ZZ^-0.977────────────────YY^(-10/11)────────────────XX^(-10/11)────ZZ^-0.941───YY^-0.767───XX^-0.767─────────────ZZ^-0.968──────────────YY^-0.898──────────────XX^-0.898────ZZ^-0.98───YY^(-9/11)───XX^(-9/11)─────────────ZZ^-0.962──────────────YY^-0.869──────────────XX^-0.869────ZZ^-0.98───YY^(-9/11)───XX^(-9/11)─────────────ZZ^-0.954──────────────YY^-0.904──────────────XX^-0.904────ZZ^-0.985───YY^-0.901───XX^-0.901───\n",
              "                       └──────────────────┘   └──────────────────────┘   └──────────────────────┘                                       └──────────────────┘   └──────────────────┘   └──────────────────┘                                        └──────────────────┘   └──────────────────┘   └──────────────────┘                                        └──────────────────┘   └──────────────────┘   └──────────────────┘"
            ]
          },
          "metadata": {},
          "execution_count": 18
        }
      ]
    },
    {
      "cell_type": "markdown",
      "metadata": {
        "id": "MFgNU_nBGeTm"
      },
      "source": [
        "Writing a small helper function will help to generate the data for the noisy vs noiseless case:"
      ]
    },
    {
      "cell_type": "code",
      "metadata": {
        "id": "zkQofAqqGibQ"
      },
      "source": [
        "def get_data(qubits, depolarize_p=0.):\n",
        "  \"\"\"Return quantum data circuits and labels in `tf.Tensor` form.\"\"\"\n",
        "  circuits, labels, pauli_sums, _ = tfq.datasets.xxz_chain(qubits, 'closed')\n",
        "  if depolarize_p >= 1e-5:\n",
        "    circuits = [circuit.with_noise(cirq.depolarize(depolarize_p)) for circuit in circuits]\n",
        "  tmp = list(zip(circuits, labels))\n",
        "  random.shuffle(tmp)\n",
        "  circuits_tensor = tfq.convert_to_tensor([x[0] for x in tmp])\n",
        "  labels_tensor = tf.convert_to_tensor([x[1] for x in tmp])\n",
        "\n",
        "  return circuits_tensor, labels_tensor"
      ],
      "execution_count": 19,
      "outputs": []
    },
    {
      "cell_type": "markdown",
      "metadata": {
        "id": "FtJrfsLCF9Z3"
      },
      "source": [
        "### 3.2 Define a model circuit\n",
        "Now that you have quantum data in the form of circuits, you will need a circuit to model this data, like with the data you can write a helper function to generate this circuit optionally containing noise:"
      ]
    },
    {
      "cell_type": "code",
      "metadata": {
        "id": "TwryFaFIG2Ya",
        "colab": {
          "base_uri": "https://localhost:8080/",
          "height": 278
        },
        "outputId": "b8471674-d2b9-4b01-cfff-a5267c386940"
      },
      "source": [
        "def modelling_circuit(qubits, depth, depolarize_p=0.):\n",
        "  \"\"\"A simple classifier circuit.\"\"\"\n",
        "  dim = len(qubits)\n",
        "  ret = cirq.Circuit(cirq.H.on_each(*qubits))\n",
        "\n",
        "  for i in range(depth):\n",
        "    # Entangle layer.\n",
        "    ret += cirq.Circuit(cirq.CX(q1, q2) for (q1, q2) in zip(qubits[::2], qubits[1::2]))\n",
        "    ret += cirq.Circuit(cirq.CX(q1, q2) for (q1, q2) in zip(qubits[1::2], qubits[2::2]))\n",
        "    # Learnable rotation layer.\n",
        "    # i_params = sympy.symbols(f'layer-{i}-0:{dim}')\n",
        "    param = sympy.Symbol(f'layer-{i}')\n",
        "    single_qb = cirq.X\n",
        "    if i % 2 == 1:\n",
        "      single_qb = cirq.Y\n",
        "    ret += cirq.Circuit(single_qb(q) ** param for q in qubits)\n",
        "  \n",
        "  if depolarize_p >= 1e-5:\n",
        "    ret = ret.with_noise(cirq.depolarize(depolarize_p))\n",
        "\n",
        "  return ret, [op(q) for q in qubits for op in [cirq.X, cirq.Y, cirq.Z]]\n",
        "\n",
        "modelling_circuit(qubits, 3)[0]"
      ],
      "execution_count": 20,
      "outputs": [
        {
          "output_type": "execute_result",
          "data": {
            "text/html": [
              "<pre style=\"overflow: auto; white-space: pre;\">(0, 0): ───H───@───────X^(layer-0)───@───────Y^(layer-1)───@───────X^(layer-2)───\n",
              "               │                     │                     │\n",
              "(0, 1): ───H───X───@───X^(layer-0)───X───@───Y^(layer-1)───X───@───X^(layer-2)───\n",
              "                   │                     │                     │\n",
              "(0, 2): ───H───@───X───X^(layer-0)───@───X───Y^(layer-1)───@───X───X^(layer-2)───\n",
              "               │                     │                     │\n",
              "(0, 3): ───H───X───@───X^(layer-0)───X───@───Y^(layer-1)───X───@───X^(layer-2)───\n",
              "                   │                     │                     │\n",
              "(0, 4): ───H───@───X───X^(layer-0)───@───X───Y^(layer-1)───@───X───X^(layer-2)───\n",
              "               │                     │                     │\n",
              "(0, 5): ───H───X───@───X^(layer-0)───X───@───Y^(layer-1)───X───@───X^(layer-2)───\n",
              "                   │                     │                     │\n",
              "(0, 6): ───H───@───X───X^(layer-0)───@───X───Y^(layer-1)───@───X───X^(layer-2)───\n",
              "               │                     │                     │\n",
              "(0, 7): ───H───X───────X^(layer-0)───X───────Y^(layer-1)───X───────X^(layer-2)───</pre>"
            ],
            "text/plain": [
              "(0, 0): ───H───@───────X^(layer-0)───@───────Y^(layer-1)───@───────X^(layer-2)───\n",
              "               │                     │                     │\n",
              "(0, 1): ───H───X───@───X^(layer-0)───X───@───Y^(layer-1)───X───@───X^(layer-2)───\n",
              "                   │                     │                     │\n",
              "(0, 2): ───H───@───X───X^(layer-0)───@───X───Y^(layer-1)───@───X───X^(layer-2)───\n",
              "               │                     │                     │\n",
              "(0, 3): ───H───X───@───X^(layer-0)───X───@───Y^(layer-1)───X───@───X^(layer-2)───\n",
              "                   │                     │                     │\n",
              "(0, 4): ───H───@───X───X^(layer-0)───@───X───Y^(layer-1)───@───X───X^(layer-2)───\n",
              "               │                     │                     │\n",
              "(0, 5): ───H───X───@───X^(layer-0)───X───@───Y^(layer-1)───X───@───X^(layer-2)───\n",
              "                   │                     │                     │\n",
              "(0, 6): ───H───@───X───X^(layer-0)───@───X───Y^(layer-1)───@───X───X^(layer-2)───\n",
              "               │                     │                     │\n",
              "(0, 7): ───H───X───────X^(layer-0)───X───────Y^(layer-1)───X───────X^(layer-2)───"
            ]
          },
          "metadata": {},
          "execution_count": 20
        }
      ]
    },
    {
      "cell_type": "markdown",
      "metadata": {
        "id": "U-ZMaCpJI9TH"
      },
      "source": [
        "### 3.3 Model building and training\n",
        "With your data and model circuit built, the final helper function you will need is one that can assemble both a noisy or a noiseless hybrid quantum `tf.keras.Model`:"
      ]
    },
    {
      "cell_type": "code",
      "metadata": {
        "id": "r09CT5N9DWa_"
      },
      "source": [
        "def build_keras_model(qubits, depolarize_p=0.):\n",
        "  \"\"\"Prepare a noisy hybrid quantum classical Keras model.\"\"\"\n",
        "  spin_input = tf.keras.Input(shape=(), dtype=tf.dtypes.string)\n",
        "\n",
        "  circuit_and_readout = modelling_circuit(qubits, 4, depolarize_p)\n",
        "  if depolarize_p >= 1e-5:\n",
        "    quantum_model = tfq.layers.NoisyPQC(*circuit_and_readout, sample_based=False, repetitions=10)(spin_input)\n",
        "  else:\n",
        "    quantum_model = tfq.layers.PQC(*circuit_and_readout)(spin_input)\n",
        "\n",
        "  intermediate = tf.keras.layers.Dense(4, activation='sigmoid')(quantum_model)\n",
        "  post_process = tf.keras.layers.Dense(1)(intermediate)\n",
        "\n",
        "  return tf.keras.Model(inputs=[spin_input], outputs=[post_process])"
      ],
      "execution_count": 21,
      "outputs": []
    },
    {
      "cell_type": "markdown",
      "metadata": {
        "id": "QbMtT7BZmhfm"
      },
      "source": [
        "## 4. Compare performance\n",
        "\n",
        "### 4.1 Noiseless baseline\n",
        "\n",
        "With your data generation and model building code, you can now compare and contrast model performance in the noiseless and noisy settings, first you can run a reference noiseless training:"
      ]
    },
    {
      "cell_type": "code",
      "metadata": {
        "id": "QAgpq9c-EakW",
        "colab": {
          "base_uri": "https://localhost:8080/",
          "height": 313
        },
        "outputId": "ba070201-3e21-4040-de09-2c753333e44b"
      },
      "source": [
        "training_histories = dict()\n",
        "depolarize_p = 0.\n",
        "n_epochs = 50\n",
        "phase_classifier = build_keras_model(qubits, depolarize_p)\n",
        "\n",
        "phase_classifier.compile(optimizer=tf.keras.optimizers.Adam(learning_rate=0.02),\n",
        "                   loss=tf.keras.losses.BinaryCrossentropy(from_logits=True),\n",
        "                   metrics=['accuracy'])\n",
        "\n",
        "\n",
        "# Show the keras plot of the model\n",
        "tf.keras.utils.plot_model(phase_classifier, show_shapes=True, dpi=70)"
      ],
      "execution_count": 22,
      "outputs": [
        {
          "output_type": "execute_result",
          "data": {
            "image/png": "[encoded data removed]",
            "text/plain": [
              "<IPython.core.display.Image object>"
            ]
          },
          "metadata": {},
          "execution_count": 22
        }
      ]
    },
    {
      "cell_type": "code",
      "metadata": {
        "id": "9tKimWRMlVfL",
        "colab": {
          "base_uri": "https://localhost:8080/"
        },
        "outputId": "c10d287a-2ba9-4789-cd3b-ad964cf35861"
      },
      "source": [
        "noiseless_data, noiseless_labels = get_data(qubits, depolarize_p)\n",
        "training_histories['noiseless'] = phase_classifier.fit(x=noiseless_data,\n",
        "                         y=noiseless_labels,\n",
        "                         batch_size=16,\n",
        "                         epochs=n_epochs,\n",
        "                         validation_split=0.15,\n",
        "                         verbose=1)"
      ],
      "execution_count": 23,
      "outputs": [
        {
          "output_type": "stream",
          "name": "stdout",
          "text": [
            "Epoch 1/50\n",
            "4/4 [==============================] - 4s 814ms/step - loss: 0.6855 - accuracy: 0.4313 - val_loss: 0.6659 - val_accuracy: 0.4167\n",
            "Epoch 2/50\n",
            "4/4 [==============================] - 1s 329ms/step - loss: 0.6744 - accuracy: 0.4521 - val_loss: 0.6626 - val_accuracy: 0.4167\n",
            "Epoch 3/50\n",
            "4/4 [==============================] - 1s 333ms/step - loss: 0.6738 - accuracy: 0.4938 - val_loss: 0.6655 - val_accuracy: 0.4167\n",
            "Epoch 4/50\n",
            "4/4 [==============================] - 1s 312ms/step - loss: 0.6729 - accuracy: 0.3979 - val_loss: 0.6496 - val_accuracy: 0.4167\n",
            "Epoch 5/50\n",
            "4/4 [==============================] - 1s 335ms/step - loss: 0.6560 - accuracy: 0.5292 - val_loss: 0.6419 - val_accuracy: 0.4167\n",
            "Epoch 6/50\n",
            "4/4 [==============================] - 1s 302ms/step - loss: 0.6461 - accuracy: 0.5167 - val_loss: 0.6290 - val_accuracy: 0.4167\n",
            "Epoch 7/50\n",
            "4/4 [==============================] - 1s 291ms/step - loss: 0.6425 - accuracy: 0.5188 - val_loss: 0.6133 - val_accuracy: 0.4167\n",
            "Epoch 8/50\n",
            "4/4 [==============================] - 1s 272ms/step - loss: 0.6251 - accuracy: 0.4562 - val_loss: 0.5947 - val_accuracy: 0.4167\n",
            "Epoch 9/50\n",
            "4/4 [==============================] - 1s 376ms/step - loss: 0.6115 - accuracy: 0.4375 - val_loss: 0.5778 - val_accuracy: 0.5833\n",
            "Epoch 10/50\n",
            "4/4 [==============================] - 1s 308ms/step - loss: 0.6046 - accuracy: 0.6354 - val_loss: 0.5659 - val_accuracy: 0.5833\n",
            "Epoch 11/50\n",
            "4/4 [==============================] - 1s 348ms/step - loss: 0.5965 - accuracy: 0.5958 - val_loss: 0.5533 - val_accuracy: 0.5833\n",
            "Epoch 12/50\n",
            "4/4 [==============================] - 1s 272ms/step - loss: 0.5725 - accuracy: 0.6042 - val_loss: 0.5375 - val_accuracy: 0.7500\n",
            "Epoch 13/50\n",
            "4/4 [==============================] - 1s 341ms/step - loss: 0.5684 - accuracy: 0.7271 - val_loss: 0.5239 - val_accuracy: 0.7500\n",
            "Epoch 14/50\n",
            "4/4 [==============================] - 1s 268ms/step - loss: 0.5539 - accuracy: 0.7083 - val_loss: 0.5071 - val_accuracy: 0.7500\n",
            "Epoch 15/50\n",
            "4/4 [==============================] - 1s 300ms/step - loss: 0.5482 - accuracy: 0.7208 - val_loss: 0.4888 - val_accuracy: 0.7500\n",
            "Epoch 16/50\n",
            "4/4 [==============================] - 1s 278ms/step - loss: 0.5277 - accuracy: 0.7542 - val_loss: 0.4681 - val_accuracy: 0.7500\n",
            "Epoch 17/50\n",
            "4/4 [==============================] - 1s 279ms/step - loss: 0.5142 - accuracy: 0.7688 - val_loss: 0.4460 - val_accuracy: 0.8333\n",
            "Epoch 18/50\n",
            "4/4 [==============================] - 1s 277ms/step - loss: 0.5007 - accuracy: 0.7854 - val_loss: 0.4243 - val_accuracy: 0.8333\n",
            "Epoch 19/50\n",
            "4/4 [==============================] - 1s 276ms/step - loss: 0.4854 - accuracy: 0.8229 - val_loss: 0.4033 - val_accuracy: 0.9167\n",
            "Epoch 20/50\n",
            "4/4 [==============================] - 1s 264ms/step - loss: 0.4563 - accuracy: 0.8583 - val_loss: 0.3834 - val_accuracy: 0.9167\n",
            "Epoch 21/50\n",
            "4/4 [==============================] - 1s 277ms/step - loss: 0.4268 - accuracy: 0.8750 - val_loss: 0.3620 - val_accuracy: 0.9167\n",
            "Epoch 22/50\n",
            "4/4 [==============================] - 1s 306ms/step - loss: 0.4144 - accuracy: 0.8458 - val_loss: 0.3387 - val_accuracy: 1.0000\n",
            "Epoch 23/50\n",
            "4/4 [==============================] - 1s 311ms/step - loss: 0.4250 - accuracy: 0.8479 - val_loss: 0.3198 - val_accuracy: 1.0000\n",
            "Epoch 24/50\n",
            "4/4 [==============================] - 1s 302ms/step - loss: 0.4009 - accuracy: 0.8583 - val_loss: 0.3012 - val_accuracy: 1.0000\n",
            "Epoch 25/50\n",
            "4/4 [==============================] - 1s 302ms/step - loss: 0.3615 - accuracy: 0.9083 - val_loss: 0.2841 - val_accuracy: 1.0000\n",
            "Epoch 26/50\n",
            "4/4 [==============================] - 2s 455ms/step - loss: 0.3694 - accuracy: 0.8354 - val_loss: 0.2674 - val_accuracy: 1.0000\n",
            "Epoch 27/50\n",
            "4/4 [==============================] - 2s 564ms/step - loss: 0.3183 - accuracy: 0.9083 - val_loss: 0.2512 - val_accuracy: 1.0000\n",
            "Epoch 28/50\n",
            "4/4 [==============================] - 2s 472ms/step - loss: 0.3232 - accuracy: 0.9083 - val_loss: 0.2355 - val_accuracy: 1.0000\n",
            "Epoch 29/50\n",
            "4/4 [==============================] - 2s 451ms/step - loss: 0.3062 - accuracy: 0.9187 - val_loss: 0.2217 - val_accuracy: 1.0000\n",
            "Epoch 30/50\n",
            "4/4 [==============================] - 2s 505ms/step - loss: 0.3083 - accuracy: 0.9062 - val_loss: 0.2070 - val_accuracy: 1.0000\n",
            "Epoch 31/50\n",
            "4/4 [==============================] - 1s 290ms/step - loss: 0.3014 - accuracy: 0.8896 - val_loss: 0.1955 - val_accuracy: 1.0000\n",
            "Epoch 32/50\n",
            "4/4 [==============================] - 1s 283ms/step - loss: 0.2711 - accuracy: 0.9500 - val_loss: 0.1848 - val_accuracy: 1.0000\n",
            "Epoch 33/50\n",
            "4/4 [==============================] - 1s 292ms/step - loss: 0.2624 - accuracy: 0.9021 - val_loss: 0.1786 - val_accuracy: 1.0000\n",
            "Epoch 34/50\n",
            "4/4 [==============================] - 1s 281ms/step - loss: 0.2466 - accuracy: 0.9437 - val_loss: 0.1673 - val_accuracy: 1.0000\n",
            "Epoch 35/50\n",
            "4/4 [==============================] - 1s 298ms/step - loss: 0.2415 - accuracy: 0.9313 - val_loss: 0.1728 - val_accuracy: 1.0000\n",
            "Epoch 36/50\n",
            "4/4 [==============================] - 1s 253ms/step - loss: 0.2758 - accuracy: 0.8833 - val_loss: 0.1505 - val_accuracy: 1.0000\n",
            "Epoch 37/50\n",
            "4/4 [==============================] - 1s 275ms/step - loss: 0.2509 - accuracy: 0.9479 - val_loss: 0.1422 - val_accuracy: 1.0000\n",
            "Epoch 38/50\n",
            "4/4 [==============================] - 1s 266ms/step - loss: 0.2396 - accuracy: 0.9437 - val_loss: 0.1384 - val_accuracy: 1.0000\n",
            "Epoch 39/50\n",
            "4/4 [==============================] - 1s 289ms/step - loss: 0.2251 - accuracy: 0.9271 - val_loss: 0.1292 - val_accuracy: 1.0000\n",
            "Epoch 40/50\n",
            "4/4 [==============================] - 1s 307ms/step - loss: 0.2147 - accuracy: 0.9583 - val_loss: 0.1229 - val_accuracy: 1.0000\n",
            "Epoch 41/50\n",
            "4/4 [==============================] - 1s 290ms/step - loss: 0.2056 - accuracy: 0.9375 - val_loss: 0.1183 - val_accuracy: 1.0000\n",
            "Epoch 42/50\n",
            "4/4 [==============================] - 1s 267ms/step - loss: 0.1957 - accuracy: 0.9583 - val_loss: 0.1131 - val_accuracy: 1.0000\n",
            "Epoch 43/50\n",
            "4/4 [==============================] - 1s 301ms/step - loss: 0.1850 - accuracy: 0.9396 - val_loss: 0.1075 - val_accuracy: 1.0000\n",
            "Epoch 44/50\n",
            "4/4 [==============================] - 1s 269ms/step - loss: 0.1703 - accuracy: 0.9708 - val_loss: 0.1033 - val_accuracy: 1.0000\n",
            "Epoch 45/50\n",
            "4/4 [==============================] - 1s 262ms/step - loss: 0.1754 - accuracy: 0.9542 - val_loss: 0.0988 - val_accuracy: 1.0000\n",
            "Epoch 46/50\n",
            "4/4 [==============================] - 1s 283ms/step - loss: 0.1892 - accuracy: 0.9667 - val_loss: 0.0948 - val_accuracy: 1.0000\n",
            "Epoch 47/50\n",
            "4/4 [==============================] - 1s 281ms/step - loss: 0.1754 - accuracy: 0.9375 - val_loss: 0.0912 - val_accuracy: 1.0000\n",
            "Epoch 48/50\n",
            "4/4 [==============================] - 1s 288ms/step - loss: 0.1831 - accuracy: 0.9437 - val_loss: 0.0880 - val_accuracy: 1.0000\n",
            "Epoch 49/50\n",
            "4/4 [==============================] - 1s 300ms/step - loss: 0.1518 - accuracy: 0.9521 - val_loss: 0.0848 - val_accuracy: 1.0000\n",
            "Epoch 50/50\n",
            "4/4 [==============================] - 1s 291ms/step - loss: 0.1811 - accuracy: 0.9354 - val_loss: 0.0816 - val_accuracy: 1.0000\n"
          ]
        }
      ]
    },
    {
      "cell_type": "markdown",
      "metadata": {
        "id": "A9oql6Synv3f"
      },
      "source": [
        "And explore the results and accuracy:"
      ]
    },
    {
      "cell_type": "code",
      "metadata": {
        "id": "TG87YNUWKKLY",
        "colab": {
          "base_uri": "https://localhost:8080/",
          "height": 279
        },
        "outputId": "7d8f5716-bfb7-4c5c-82bb-32df7f1ba4af"
      },
      "source": [
        "loss_plotter = tfdocs.plots.HistoryPlotter(metric = 'loss', smoothing_std=10)\n",
        "loss_plotter.plot(training_histories)"
      ],
      "execution_count": 24,
      "outputs": [
        {
          "output_type": "display_data",
          "data": {
            "image/png": "[encoded data removed]",
            "text/plain": [
              "<Figure size 432x288 with 1 Axes>"
            ]
          },
          "metadata": {
            "needs_background": "light"
          }
        }
      ]
    },
    {
      "cell_type": "code",
      "metadata": {
        "id": "O2ZwM18YUxxm",
        "colab": {
          "base_uri": "https://localhost:8080/",
          "height": 279
        },
        "outputId": "8ede08bd-a242-4055-dd89-2f13acb66f5b"
      },
      "source": [
        "acc_plotter = tfdocs.plots.HistoryPlotter(metric = 'accuracy', smoothing_std=10)\n",
        "acc_plotter.plot(training_histories)"
      ],
      "execution_count": 25,
      "outputs": [
        {
          "output_type": "display_data",
          "data": {
            "image/png": "[encoded data removed]",
            "text/plain": [
              "<Figure size 432x288 with 1 Axes>"
            ]
          },
          "metadata": {
            "needs_background": "light"
          }
        }
      ]
    },
    {
      "cell_type": "markdown",
      "metadata": {
        "id": "JlOwBxvSnzid"
      },
      "source": [
        "### 4.2 Noisy comparison\n",
        "Now you can build a new model with noisy structure and compare to the above, the code is nearly identical:"
      ]
    },
    {
      "cell_type": "code",
      "metadata": {
        "id": "0jy54uWpgwhi",
        "colab": {
          "base_uri": "https://localhost:8080/",
          "height": 313
        },
        "outputId": "3101b285-2533-464e-dbdf-f643c6d43a7c"
      },
      "source": [
        "depolarize_p = 0.001\n",
        "n_epochs = 50\n",
        "noisy_phase_classifier = build_keras_model(qubits, depolarize_p)\n",
        "\n",
        "noisy_phase_classifier.compile(optimizer=tf.keras.optimizers.Adam(learning_rate=0.02),\n",
        "                   loss=tf.keras.losses.BinaryCrossentropy(from_logits=True),\n",
        "                   metrics=['accuracy'])\n",
        "\n",
        "\n",
        "# Show the keras plot of the model\n",
        "tf.keras.utils.plot_model(noisy_phase_classifier, show_shapes=True, dpi=70)"
      ],
      "execution_count": 26,
      "outputs": [
        {
          "output_type": "execute_result",
          "data": {
            "image/png": "[encoded data removed]",
            "text/plain": [
              "<IPython.core.display.Image object>"
            ]
          },
          "metadata": {},
          "execution_count": 26
        }
      ]
    },
    {
      "cell_type": "markdown",
      "metadata": {
        "id": "r-vYU6S3oN-J"
      },
      "source": [
        "Note: in the model diagram there is now a `tfq.layers.NoisyPQC` instead of a `tfq.layers.PQC` since the depolarization probability is no longer zero. Training will take significantly longer since noisy simulation is far more expensive than noiseless."
      ]
    },
    {
      "cell_type": "code",
      "metadata": {
        "id": "210cLP5AoClJ",
        "colab": {
          "base_uri": "https://localhost:8080/"
        },
        "outputId": "017d6a76-d44b-4bb5-bf42-818aaae241be"
      },
      "source": [
        "noisy_data, noisy_labels = get_data(qubits, depolarize_p)\n",
        "training_histories['noisy'] = noisy_phase_classifier.fit(x=noisy_data,\n",
        "                         y=noisy_labels,\n",
        "                         batch_size=16,\n",
        "                         epochs=n_epochs,\n",
        "                         validation_split=0.15,\n",
        "                         verbose=1)"
      ],
      "execution_count": 27,
      "outputs": [
        {
          "output_type": "stream",
          "name": "stdout",
          "text": [
            "Epoch 1/50\n",
            "4/4 [==============================] - 67s 17s/step - loss: 0.6899 - accuracy: 0.5542 - val_loss: 0.7694 - val_accuracy: 0.2500\n",
            "Epoch 2/50\n",
            "4/4 [==============================] - 62s 15s/step - loss: 0.6912 - accuracy: 0.5229 - val_loss: 0.7232 - val_accuracy: 0.2500\n",
            "Epoch 3/50\n",
            "4/4 [==============================] - 64s 16s/step - loss: 0.6878 - accuracy: 0.5083 - val_loss: 0.6982 - val_accuracy: 0.2500\n",
            "Epoch 4/50\n",
            "4/4 [==============================] - 61s 15s/step - loss: 0.6896 - accuracy: 0.4479 - val_loss: 0.6773 - val_accuracy: 0.2500\n",
            "Epoch 5/50\n",
            "4/4 [==============================] - 61s 15s/step - loss: 0.6822 - accuracy: 0.5250 - val_loss: 0.6865 - val_accuracy: 0.2500\n",
            "Epoch 6/50\n",
            "4/4 [==============================] - 59s 15s/step - loss: 0.6751 - accuracy: 0.4771 - val_loss: 0.6894 - val_accuracy: 0.2500\n",
            "Epoch 7/50\n",
            "4/4 [==============================] - 61s 15s/step - loss: 0.6647 - accuracy: 0.5000 - val_loss: 0.6749 - val_accuracy: 0.2500\n",
            "Epoch 8/50\n",
            "4/4 [==============================] - 59s 15s/step - loss: 0.6557 - accuracy: 0.4917 - val_loss: 0.6765 - val_accuracy: 0.2500\n",
            "Epoch 9/50\n",
            "4/4 [==============================] - 48s 11s/step - loss: 0.6469 - accuracy: 0.4896 - val_loss: 0.6475 - val_accuracy: 0.2500\n",
            "Epoch 10/50\n",
            "4/4 [==============================] - 43s 11s/step - loss: 0.6335 - accuracy: 0.5396 - val_loss: 0.6385 - val_accuracy: 0.2500\n",
            "Epoch 11/50\n",
            "4/4 [==============================] - 46s 12s/step - loss: 0.6142 - accuracy: 0.5625 - val_loss: 0.6568 - val_accuracy: 0.2500\n",
            "Epoch 12/50\n",
            "4/4 [==============================] - 29s 7s/step - loss: 0.6092 - accuracy: 0.5354 - val_loss: 0.6269 - val_accuracy: 0.2500\n",
            "Epoch 13/50\n",
            "4/4 [==============================] - 27s 7s/step - loss: 0.5874 - accuracy: 0.5542 - val_loss: 0.6117 - val_accuracy: 0.2500\n",
            "Epoch 14/50\n",
            "4/4 [==============================] - 28s 7s/step - loss: 0.5690 - accuracy: 0.5646 - val_loss: 0.6034 - val_accuracy: 0.2500\n",
            "Epoch 15/50\n",
            "4/4 [==============================] - 26s 7s/step - loss: 0.5533 - accuracy: 0.6396 - val_loss: 0.6124 - val_accuracy: 0.4167\n",
            "Epoch 16/50\n",
            "4/4 [==============================] - 28s 7s/step - loss: 0.5452 - accuracy: 0.6896 - val_loss: 0.5847 - val_accuracy: 0.4167\n",
            "Epoch 17/50\n",
            "4/4 [==============================] - 28s 7s/step - loss: 0.5167 - accuracy: 0.6708 - val_loss: 0.5826 - val_accuracy: 0.4167\n",
            "Epoch 18/50\n",
            "4/4 [==============================] - 26s 7s/step - loss: 0.5226 - accuracy: 0.6625 - val_loss: 0.5389 - val_accuracy: 0.5000\n",
            "Epoch 19/50\n",
            "4/4 [==============================] - 26s 7s/step - loss: 0.4800 - accuracy: 0.7854 - val_loss: 0.5257 - val_accuracy: 0.6667\n",
            "Epoch 20/50\n",
            "4/4 [==============================] - 27s 7s/step - loss: 0.4774 - accuracy: 0.7396 - val_loss: 0.4668 - val_accuracy: 0.7500\n",
            "Epoch 21/50\n",
            "4/4 [==============================] - 27s 7s/step - loss: 0.4485 - accuracy: 0.7917 - val_loss: 0.4769 - val_accuracy: 0.6667\n",
            "Epoch 22/50\n",
            "4/4 [==============================] - 26s 7s/step - loss: 0.4373 - accuracy: 0.8479 - val_loss: 0.4902 - val_accuracy: 0.5000\n",
            "Epoch 23/50\n",
            "4/4 [==============================] - 26s 7s/step - loss: 0.4057 - accuracy: 0.7937 - val_loss: 0.5219 - val_accuracy: 0.4167\n",
            "Epoch 24/50\n",
            "4/4 [==============================] - 26s 7s/step - loss: 0.4202 - accuracy: 0.8000 - val_loss: 0.5063 - val_accuracy: 0.6667\n",
            "Epoch 25/50\n",
            "4/4 [==============================] - 27s 7s/step - loss: 0.3761 - accuracy: 0.8500 - val_loss: 0.4594 - val_accuracy: 0.7500\n",
            "Epoch 26/50\n",
            "4/4 [==============================] - 28s 7s/step - loss: 0.3709 - accuracy: 0.9146 - val_loss: 0.4651 - val_accuracy: 0.5833\n",
            "Epoch 27/50\n",
            "4/4 [==============================] - 26s 7s/step - loss: 0.3741 - accuracy: 0.8458 - val_loss: 0.4424 - val_accuracy: 0.6667\n",
            "Epoch 28/50\n",
            "4/4 [==============================] - 27s 7s/step - loss: 0.3225 - accuracy: 0.9104 - val_loss: 0.4239 - val_accuracy: 0.7500\n",
            "Epoch 29/50\n",
            "4/4 [==============================] - 26s 7s/step - loss: 0.3176 - accuracy: 0.8938 - val_loss: 0.3613 - val_accuracy: 0.8333\n",
            "Epoch 30/50\n",
            "4/4 [==============================] - 26s 7s/step - loss: 0.3578 - accuracy: 0.8229 - val_loss: 0.3160 - val_accuracy: 0.8333\n",
            "Epoch 31/50\n",
            "4/4 [==============================] - 26s 7s/step - loss: 0.3033 - accuracy: 0.9375 - val_loss: 0.3829 - val_accuracy: 0.7500\n",
            "Epoch 32/50\n",
            "4/4 [==============================] - 26s 7s/step - loss: 0.3017 - accuracy: 0.9042 - val_loss: 0.4081 - val_accuracy: 0.6667\n",
            "Epoch 33/50\n",
            "4/4 [==============================] - 26s 7s/step - loss: 0.3074 - accuracy: 0.8812 - val_loss: 0.3802 - val_accuracy: 0.7500\n",
            "Epoch 34/50\n",
            "4/4 [==============================] - 26s 7s/step - loss: 0.2667 - accuracy: 0.9021 - val_loss: 0.4376 - val_accuracy: 0.7500\n",
            "Epoch 35/50\n",
            "4/4 [==============================] - 26s 7s/step - loss: 0.2918 - accuracy: 0.8979 - val_loss: 0.3565 - val_accuracy: 0.7500\n",
            "Epoch 36/50\n",
            "4/4 [==============================] - 26s 7s/step - loss: 0.2671 - accuracy: 0.8750 - val_loss: 0.2400 - val_accuracy: 0.9167\n",
            "Epoch 37/50\n",
            "4/4 [==============================] - 27s 7s/step - loss: 0.2288 - accuracy: 0.9521 - val_loss: 0.3380 - val_accuracy: 0.8333\n",
            "Epoch 38/50\n",
            "4/4 [==============================] - 27s 7s/step - loss: 0.2690 - accuracy: 0.8688 - val_loss: 0.3612 - val_accuracy: 0.6667\n",
            "Epoch 39/50\n",
            "4/4 [==============================] - 27s 7s/step - loss: 0.1949 - accuracy: 0.9083 - val_loss: 0.3780 - val_accuracy: 0.8333\n",
            "Epoch 40/50\n",
            "4/4 [==============================] - 27s 7s/step - loss: 0.2634 - accuracy: 0.9500 - val_loss: 0.4317 - val_accuracy: 0.6667\n",
            "Epoch 41/50\n",
            "4/4 [==============================] - 26s 7s/step - loss: 0.2087 - accuracy: 0.9500 - val_loss: 0.4102 - val_accuracy: 0.8333\n",
            "Epoch 42/50\n",
            "4/4 [==============================] - 26s 7s/step - loss: 0.2231 - accuracy: 0.9313 - val_loss: 0.3218 - val_accuracy: 0.8333\n",
            "Epoch 43/50\n",
            "4/4 [==============================] - 26s 7s/step - loss: 0.2413 - accuracy: 0.9062 - val_loss: 0.3631 - val_accuracy: 0.8333\n",
            "Epoch 44/50\n",
            "4/4 [==============================] - 26s 7s/step - loss: 0.2301 - accuracy: 0.9333 - val_loss: 0.2572 - val_accuracy: 0.9167\n",
            "Epoch 45/50\n",
            "4/4 [==============================] - 26s 7s/step - loss: 0.1871 - accuracy: 0.9833 - val_loss: 0.2532 - val_accuracy: 0.9167\n",
            "Epoch 46/50\n",
            "4/4 [==============================] - 26s 7s/step - loss: 0.2002 - accuracy: 0.9437 - val_loss: 0.3365 - val_accuracy: 0.7500\n",
            "Epoch 47/50\n",
            "4/4 [==============================] - 27s 7s/step - loss: 0.2704 - accuracy: 0.8688 - val_loss: 0.2772 - val_accuracy: 0.9167\n",
            "Epoch 48/50\n",
            "4/4 [==============================] - 27s 7s/step - loss: 0.1889 - accuracy: 0.9667 - val_loss: 0.2172 - val_accuracy: 1.0000\n",
            "Epoch 49/50\n",
            "4/4 [==============================] - 26s 7s/step - loss: 0.1855 - accuracy: 0.9646 - val_loss: 0.3414 - val_accuracy: 0.8333\n",
            "Epoch 50/50\n",
            "4/4 [==============================] - 27s 7s/step - loss: 0.1720 - accuracy: 0.9521 - val_loss: 0.2537 - val_accuracy: 0.8333\n"
          ]
        }
      ]
    },
    {
      "cell_type": "code",
      "metadata": {
        "id": "eQ8pknNdohzy",
        "colab": {
          "base_uri": "https://localhost:8080/",
          "height": 279
        },
        "outputId": "be5af0f3-6c17-404a-fb03-d3ed37c64d8c"
      },
      "source": [
        "loss_plotter.plot(training_histories)"
      ],
      "execution_count": 28,
      "outputs": [
        {
          "output_type": "display_data",
          "data": {
            "image/png": "[encoded data removed]",
            "text/plain": [
              "<Figure size 432x288 with 1 Axes>"
            ]
          },
          "metadata": {
            "needs_background": "light"
          }
        }
      ]
    },
    {
      "cell_type": "code",
      "metadata": {
        "id": "nBtgnKWtuWRR",
        "colab": {
          "base_uri": "https://localhost:8080/",
          "height": 279
        },
        "outputId": "c254d013-832c-48e9-a5fe-ec1f9c1c1246"
      },
      "source": [
        "acc_plotter.plot(training_histories)"
      ],
      "execution_count": 29,
      "outputs": [
        {
          "output_type": "display_data",
          "data": {
            "image/png": "[encoded data removed]",
            "text/plain": [
              "<Figure size 432x288 with 1 Axes>"
            ]
          },
          "metadata": {
            "needs_background": "light"
          }
        }
      ]
    },
    {
      "cell_type": "markdown",
      "metadata": {
        "id": "r86TeFxlubls"
      },
      "source": [
        "Success: The noisy model still managed to train under some mild depolarization noise. Try experimenting with different noise models to see how and when training might fail. Also look out for noisy functionality under `tfq.layers` and `tfq.noise`."
      ]
    }
  ]
}