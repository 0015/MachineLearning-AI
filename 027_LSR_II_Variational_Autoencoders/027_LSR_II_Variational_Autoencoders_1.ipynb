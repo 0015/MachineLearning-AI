{
  "nbformat": 4,
  "nbformat_minor": 0,
  "metadata": {
    "colab": {
      "name": "027_LSR_II_Variational_Autoencoders.ipynb",
      "provenance": []
    },
    "kernelspec": {
      "name": "python3",
      "display_name": "Python 3"
    },
    "language_info": {
      "name": "python"
    },
    "accelerator": "GPU"
  },
  "cells": [
    {
      "cell_type": "code",
      "execution_count": 1,
      "metadata": {
        "colab": {
          "base_uri": "https://localhost:8080/"
        },
        "id": "l9KsuZc_VRod",
        "outputId": "0dc7ec6c-907a-4408-8f39-d45a031f9ced"
      },
      "outputs": [
        {
          "output_type": "stream",
          "name": "stdout",
          "text": [
            "Tensor Flow Version: 2.7.0\n",
            "GPU is available\n"
          ]
        }
      ],
      "source": [
        "import sys\n",
        "import tensorflow as tf\n",
        "print(f\"Tensor Flow Version: {tf.__version__}\")\n",
        "physical_device = tf.config.experimental.list_physical_devices('GPU')\n",
        "gpu = len(tf.config.list_physical_devices('GPU'))>0\n",
        "print(\"GPU is\", \"available\" if gpu else \"NOT AVAILABLE\")"
      ]
    },
    {
      "cell_type": "code",
      "source": [
        "from matplotlib import pyplot as plt\n",
        "import pathlib\n",
        "\n",
        "## create train and validation datasets\n",
        "DB_PATH = \"/content/drive/MyDrive/100daysofML/fashiondb/images\"\n",
        "BUFFER_SIZE = 10000\n",
        "BATCH_SIZE = 128\n",
        "IMG_WIDTH = 128\n",
        "IMG_HEIGHT = 128\n",
        "\n",
        "def load(image_file):\n",
        "    image = tf.io.read_file(image_file)\n",
        "    image = tf.image.decode_jpeg(image,channels=3)\n",
        "\n",
        "    input_image = tf.cast(image, tf.float32)\n",
        "    return input_image\n",
        "\n",
        "def random_crop(input_image):\n",
        "    cropped_image = tf.image.random_crop(\n",
        "      input_image, size=[IMG_HEIGHT, IMG_WIDTH, 3])\n",
        "\n",
        "    return cropped_image\n",
        "\n",
        "def resize(input_image):\n",
        "    input_image = tf.image.resize(input_image, [IMG_HEIGHT, IMG_WIDTH],\n",
        "                                method=tf.image.ResizeMethod.NEAREST_NEIGHBOR)\n",
        "    return input_image\n",
        "\n",
        "def normalize(input_image):\n",
        "    input_image = (input_image / 255)\n",
        "    return input_image\n",
        "\n",
        "@tf.function()\n",
        "def random_jitter(input_image):\n",
        "    input_image = random_crop(input_image)\n",
        "\n",
        "    if tf.random.uniform(()) > 0.5:\n",
        "        input_image = tf.image.flip_left_right(input_image)\n",
        "        \n",
        "    return input_image\n",
        "\n",
        "def load_image_train(image_file):\n",
        "    input_image = load(image_file)\n",
        "    #input_image = random_jitter(input_image)\n",
        "    input_image = resize(input_image)\n",
        "    input_image = normalize(input_image)\n",
        "\n",
        "    return input_image,input_image\n",
        "\n",
        "def load_image_test(image_file):\n",
        "    input_image = load(image_file)\n",
        "    #input_image = random_jitter(input_image)\n",
        "    input_image = resize(input_image)\n",
        "    input_image = normalize(input_image)\n",
        "\n",
        "    return input_image,input_image\n",
        "\n",
        "data_dir = pathlib.Path(DB_PATH)\n",
        "image_count = len(list(data_dir.glob('*.jpg')))\n",
        "# dataset = tf.data.Dataset.list_files(DB_PATH+'/*.jpg')"
      ],
      "metadata": {
        "id": "NkpRUeXGVdhK"
      },
      "execution_count": 4,
      "outputs": []
    },
    {
      "cell_type": "code",
      "source": [
        "dataset = tf.data.Dataset.list_files(DB_PATH+'/*.jpg')"
      ],
      "metadata": {
        "id": "f0_hi6lO5R_r"
      },
      "execution_count": 5,
      "outputs": []
    },
    {
      "cell_type": "code",
      "source": [
        "val_size = int(image_count * 0.2)\n",
        "train_ds = dataset.skip(val_size)\n",
        "val_ds = dataset.take(val_size)\n",
        "\n",
        "print(tf.data.experimental.cardinality(train_ds).numpy())\n",
        "print(tf.data.experimental.cardinality(val_ds).numpy())\n",
        "\n",
        "train_ds = train_ds.map(load_image_train, num_parallel_calls=tf.data.experimental.AUTOTUNE)\n",
        "train_ds = train_ds.shuffle(BUFFER_SIZE).batch(BATCH_SIZE)\n",
        "\n",
        "val_ds = val_ds.map(load_image_test)\n",
        "val_ds = val_ds.batch(BATCH_SIZE)"
      ],
      "metadata": {
        "colab": {
          "base_uri": "https://localhost:8080/"
        },
        "id": "rOirM7Q45Qmf",
        "outputId": "9daf6788-6f69-46b6-ef8d-b18cc7effa0d"
      },
      "execution_count": 6,
      "outputs": [
        {
          "output_type": "stream",
          "name": "stdout",
          "text": [
            "35568\n",
            "8892\n"
          ]
        }
      ]
    },
    {
      "cell_type": "code",
      "source": [
        "#image_batch = next(iter(train_ds))\n",
        "\n",
        "plt.figure(figsize=(15, 5))\n",
        "for images,targets in val_ds.take(1):\n",
        "    for i in range(30):\n",
        "        ax = plt.subplot(3, 15, i + 1)\n",
        "        plt.imshow(images[i].numpy().astype(\"float32\"))\n",
        "        plt.axis(\"off\")\n",
        "\n",
        "import os\n",
        "os.mkdir(\"Images\")\n",
        "plt.savefig(\"/Images/Visualizations.jpg\")"
      ],
      "metadata": {
        "colab": {
          "base_uri": "https://localhost:8080/",
          "height": 515
        },
        "id": "OYeg70mF28aQ",
        "outputId": "ad7d1ba3-1aa6-4eb5-a7e2-ae634a122255"
      },
      "execution_count": 7,
      "outputs": [
        {
          "output_type": "error",
          "ename": "FileNotFoundError",
          "evalue": "ignored",
          "traceback": [
            "\u001b[0;31m---------------------------------------------------------------------------\u001b[0m",
            "\u001b[0;31mFileNotFoundError\u001b[0m                         Traceback (most recent call last)",
            "\u001b[0;32m<ipython-input-7-de9516cf24fb>\u001b[0m in \u001b[0;36m<module>\u001b[0;34m()\u001b[0m\n\u001b[1;32m     10\u001b[0m \u001b[0;32mimport\u001b[0m \u001b[0mos\u001b[0m\u001b[0;34m\u001b[0m\u001b[0;34m\u001b[0m\u001b[0m\n\u001b[1;32m     11\u001b[0m \u001b[0mos\u001b[0m\u001b[0;34m.\u001b[0m\u001b[0mmkdir\u001b[0m\u001b[0;34m(\u001b[0m\u001b[0;34m\"Images\"\u001b[0m\u001b[0;34m)\u001b[0m\u001b[0;34m\u001b[0m\u001b[0;34m\u001b[0m\u001b[0m\n\u001b[0;32m---> 12\u001b[0;31m \u001b[0mplt\u001b[0m\u001b[0;34m.\u001b[0m\u001b[0msavefig\u001b[0m\u001b[0;34m(\u001b[0m\u001b[0;34m\"/Images/Visualizations.jpg\"\u001b[0m\u001b[0;34m)\u001b[0m\u001b[0;34m\u001b[0m\u001b[0;34m\u001b[0m\u001b[0m\n\u001b[0m",
            "\u001b[0;32m/usr/local/lib/python3.7/dist-packages/matplotlib/pyplot.py\u001b[0m in \u001b[0;36msavefig\u001b[0;34m(*args, **kwargs)\u001b[0m\n\u001b[1;32m    721\u001b[0m \u001b[0;32mdef\u001b[0m \u001b[0msavefig\u001b[0m\u001b[0;34m(\u001b[0m\u001b[0;34m*\u001b[0m\u001b[0margs\u001b[0m\u001b[0;34m,\u001b[0m \u001b[0;34m**\u001b[0m\u001b[0mkwargs\u001b[0m\u001b[0;34m)\u001b[0m\u001b[0;34m:\u001b[0m\u001b[0;34m\u001b[0m\u001b[0;34m\u001b[0m\u001b[0m\n\u001b[1;32m    722\u001b[0m     \u001b[0mfig\u001b[0m \u001b[0;34m=\u001b[0m \u001b[0mgcf\u001b[0m\u001b[0;34m(\u001b[0m\u001b[0;34m)\u001b[0m\u001b[0;34m\u001b[0m\u001b[0;34m\u001b[0m\u001b[0m\n\u001b[0;32m--> 723\u001b[0;31m     \u001b[0mres\u001b[0m \u001b[0;34m=\u001b[0m \u001b[0mfig\u001b[0m\u001b[0;34m.\u001b[0m\u001b[0msavefig\u001b[0m\u001b[0;34m(\u001b[0m\u001b[0;34m*\u001b[0m\u001b[0margs\u001b[0m\u001b[0;34m,\u001b[0m \u001b[0;34m**\u001b[0m\u001b[0mkwargs\u001b[0m\u001b[0;34m)\u001b[0m\u001b[0;34m\u001b[0m\u001b[0;34m\u001b[0m\u001b[0m\n\u001b[0m\u001b[1;32m    724\u001b[0m     \u001b[0mfig\u001b[0m\u001b[0;34m.\u001b[0m\u001b[0mcanvas\u001b[0m\u001b[0;34m.\u001b[0m\u001b[0mdraw_idle\u001b[0m\u001b[0;34m(\u001b[0m\u001b[0;34m)\u001b[0m   \u001b[0;31m# need this if 'transparent=True' to reset colors\u001b[0m\u001b[0;34m\u001b[0m\u001b[0;34m\u001b[0m\u001b[0m\n\u001b[1;32m    725\u001b[0m     \u001b[0;32mreturn\u001b[0m \u001b[0mres\u001b[0m\u001b[0;34m\u001b[0m\u001b[0;34m\u001b[0m\u001b[0m\n",
            "\u001b[0;32m/usr/local/lib/python3.7/dist-packages/matplotlib/figure.py\u001b[0m in \u001b[0;36msavefig\u001b[0;34m(self, fname, transparent, **kwargs)\u001b[0m\n\u001b[1;32m   2201\u001b[0m             \u001b[0mself\u001b[0m\u001b[0;34m.\u001b[0m\u001b[0mpatch\u001b[0m\u001b[0;34m.\u001b[0m\u001b[0mset_visible\u001b[0m\u001b[0;34m(\u001b[0m\u001b[0mframeon\u001b[0m\u001b[0;34m)\u001b[0m\u001b[0;34m\u001b[0m\u001b[0;34m\u001b[0m\u001b[0m\n\u001b[1;32m   2202\u001b[0m \u001b[0;34m\u001b[0m\u001b[0m\n\u001b[0;32m-> 2203\u001b[0;31m         \u001b[0mself\u001b[0m\u001b[0;34m.\u001b[0m\u001b[0mcanvas\u001b[0m\u001b[0;34m.\u001b[0m\u001b[0mprint_figure\u001b[0m\u001b[0;34m(\u001b[0m\u001b[0mfname\u001b[0m\u001b[0;34m,\u001b[0m \u001b[0;34m**\u001b[0m\u001b[0mkwargs\u001b[0m\u001b[0;34m)\u001b[0m\u001b[0;34m\u001b[0m\u001b[0;34m\u001b[0m\u001b[0m\n\u001b[0m\u001b[1;32m   2204\u001b[0m \u001b[0;34m\u001b[0m\u001b[0m\n\u001b[1;32m   2205\u001b[0m         \u001b[0;32mif\u001b[0m \u001b[0mframeon\u001b[0m\u001b[0;34m:\u001b[0m\u001b[0;34m\u001b[0m\u001b[0;34m\u001b[0m\u001b[0m\n",
            "\u001b[0;32m/usr/local/lib/python3.7/dist-packages/matplotlib/backend_bases.py\u001b[0m in \u001b[0;36mprint_figure\u001b[0;34m(self, filename, dpi, facecolor, edgecolor, orientation, format, bbox_inches, **kwargs)\u001b[0m\n\u001b[1;32m   2124\u001b[0m                     \u001b[0morientation\u001b[0m\u001b[0;34m=\u001b[0m\u001b[0morientation\u001b[0m\u001b[0;34m,\u001b[0m\u001b[0;34m\u001b[0m\u001b[0;34m\u001b[0m\u001b[0m\n\u001b[1;32m   2125\u001b[0m                     \u001b[0mbbox_inches_restore\u001b[0m\u001b[0;34m=\u001b[0m\u001b[0m_bbox_inches_restore\u001b[0m\u001b[0;34m,\u001b[0m\u001b[0;34m\u001b[0m\u001b[0;34m\u001b[0m\u001b[0m\n\u001b[0;32m-> 2126\u001b[0;31m                     **kwargs)\n\u001b[0m\u001b[1;32m   2127\u001b[0m             \u001b[0;32mfinally\u001b[0m\u001b[0;34m:\u001b[0m\u001b[0;34m\u001b[0m\u001b[0;34m\u001b[0m\u001b[0m\n\u001b[1;32m   2128\u001b[0m                 \u001b[0;32mif\u001b[0m \u001b[0mbbox_inches\u001b[0m \u001b[0;32mand\u001b[0m \u001b[0mrestore_bbox\u001b[0m\u001b[0;34m:\u001b[0m\u001b[0;34m\u001b[0m\u001b[0;34m\u001b[0m\u001b[0m\n",
            "\u001b[0;32m/usr/local/lib/python3.7/dist-packages/matplotlib/cbook/deprecation.py\u001b[0m in \u001b[0;36mwrapper\u001b[0;34m(*args, **kwargs)\u001b[0m\n\u001b[1;32m    356\u001b[0m                 \u001b[0;34mf\"%(removal)s.  If any parameter follows {name!r}, they \"\u001b[0m\u001b[0;34m\u001b[0m\u001b[0;34m\u001b[0m\u001b[0m\n\u001b[1;32m    357\u001b[0m                 f\"should be pass as keyword, not positionally.\")\n\u001b[0;32m--> 358\u001b[0;31m         \u001b[0;32mreturn\u001b[0m \u001b[0mfunc\u001b[0m\u001b[0;34m(\u001b[0m\u001b[0;34m*\u001b[0m\u001b[0margs\u001b[0m\u001b[0;34m,\u001b[0m \u001b[0;34m**\u001b[0m\u001b[0mkwargs\u001b[0m\u001b[0;34m)\u001b[0m\u001b[0;34m\u001b[0m\u001b[0;34m\u001b[0m\u001b[0m\n\u001b[0m\u001b[1;32m    359\u001b[0m \u001b[0;34m\u001b[0m\u001b[0m\n\u001b[1;32m    360\u001b[0m     \u001b[0;32mreturn\u001b[0m \u001b[0mwrapper\u001b[0m\u001b[0;34m\u001b[0m\u001b[0;34m\u001b[0m\u001b[0m\n",
            "\u001b[0;32m/usr/local/lib/python3.7/dist-packages/matplotlib/backends/backend_agg.py\u001b[0m in \u001b[0;36mprint_jpg\u001b[0;34m(self, filename_or_obj, dryrun, pil_kwargs, *args, **kwargs)\u001b[0m\n\u001b[1;32m    598\u001b[0m             \u001b[0mpil_kwargs\u001b[0m\u001b[0;34m.\u001b[0m\u001b[0msetdefault\u001b[0m\u001b[0;34m(\u001b[0m\u001b[0;34m\"dpi\"\u001b[0m\u001b[0;34m,\u001b[0m \u001b[0;34m(\u001b[0m\u001b[0mself\u001b[0m\u001b[0;34m.\u001b[0m\u001b[0mfigure\u001b[0m\u001b[0;34m.\u001b[0m\u001b[0mdpi\u001b[0m\u001b[0;34m,\u001b[0m \u001b[0mself\u001b[0m\u001b[0;34m.\u001b[0m\u001b[0mfigure\u001b[0m\u001b[0;34m.\u001b[0m\u001b[0mdpi\u001b[0m\u001b[0;34m)\u001b[0m\u001b[0;34m)\u001b[0m\u001b[0;34m\u001b[0m\u001b[0;34m\u001b[0m\u001b[0m\n\u001b[1;32m    599\u001b[0m             return background.save(\n\u001b[0;32m--> 600\u001b[0;31m                 filename_or_obj, format='jpeg', **pil_kwargs)\n\u001b[0m\u001b[1;32m    601\u001b[0m \u001b[0;34m\u001b[0m\u001b[0m\n\u001b[1;32m    602\u001b[0m         \u001b[0mprint_jpeg\u001b[0m \u001b[0;34m=\u001b[0m \u001b[0mprint_jpg\u001b[0m\u001b[0;34m\u001b[0m\u001b[0;34m\u001b[0m\u001b[0m\n",
            "\u001b[0;32m/usr/local/lib/python3.7/dist-packages/PIL/Image.py\u001b[0m in \u001b[0;36msave\u001b[0;34m(self, fp, format, **params)\u001b[0m\n\u001b[1;32m   2129\u001b[0m                 \u001b[0mfp\u001b[0m \u001b[0;34m=\u001b[0m \u001b[0mbuiltins\u001b[0m\u001b[0;34m.\u001b[0m\u001b[0mopen\u001b[0m\u001b[0;34m(\u001b[0m\u001b[0mfilename\u001b[0m\u001b[0;34m,\u001b[0m \u001b[0;34m\"r+b\"\u001b[0m\u001b[0;34m)\u001b[0m\u001b[0;34m\u001b[0m\u001b[0;34m\u001b[0m\u001b[0m\n\u001b[1;32m   2130\u001b[0m             \u001b[0;32melse\u001b[0m\u001b[0;34m:\u001b[0m\u001b[0;34m\u001b[0m\u001b[0;34m\u001b[0m\u001b[0m\n\u001b[0;32m-> 2131\u001b[0;31m                 \u001b[0mfp\u001b[0m \u001b[0;34m=\u001b[0m \u001b[0mbuiltins\u001b[0m\u001b[0;34m.\u001b[0m\u001b[0mopen\u001b[0m\u001b[0;34m(\u001b[0m\u001b[0mfilename\u001b[0m\u001b[0;34m,\u001b[0m \u001b[0;34m\"w+b\"\u001b[0m\u001b[0;34m)\u001b[0m\u001b[0;34m\u001b[0m\u001b[0;34m\u001b[0m\u001b[0m\n\u001b[0m\u001b[1;32m   2132\u001b[0m \u001b[0;34m\u001b[0m\u001b[0m\n\u001b[1;32m   2133\u001b[0m         \u001b[0;32mtry\u001b[0m\u001b[0;34m:\u001b[0m\u001b[0;34m\u001b[0m\u001b[0;34m\u001b[0m\u001b[0m\n",
            "\u001b[0;31mFileNotFoundError\u001b[0m: [Errno 2] No such file or directory: '/Images/Visualizations.jpg'"
          ]
        },
        {
          "output_type": "display_data",
          "data": {
            "image/png": "[encoded data removed]",
            "text/plain": [
              "<Figure size 1080x360 with 30 Axes>"
            ]
          },
          "metadata": {
            "needs_background": "light"
          }
        }
      ]
    },
    {
      "cell_type": "code",
      "source": [
        "from tensorflow.keras.layers import *\n",
        "from tensorflow.keras.models import Model, Sequential\n",
        "from tensorflow.keras.optimizers import Adam, RMSprop\n",
        "from tensorflow.keras.preprocessing import image\n",
        "\n",
        "import tensorflow.keras.backend as K\n",
        "\n",
        "latent_dim = 256  # Number of latent dimension parameters\n",
        "\n",
        "input_img = Input(shape=(128, 128, 3))\n",
        "\n",
        "x = Conv2D(32, (3, 3), activation='relu', padding='same', strides=2)(input_img)\n",
        "x = BatchNormalization()(x)\n",
        "\n",
        "x = Conv2D(16, (3, 3), activation='relu', padding='same', strides=2)(x)\n",
        "x = BatchNormalization()(x)\n",
        "\n",
        "x = Conv2D(4, (3, 3), activation='relu', padding='same', strides=2)(x)\n",
        "x = BatchNormalization()(x)\n",
        "\n",
        "shape_before_flattening = K.int_shape(x)\n",
        "print(shape_before_flattening)\n",
        "x = Flatten()(x)\n",
        "\n",
        "z_mu = Dense(latent_dim)(x)\n",
        "z_log_sigma = Dense(latent_dim, kernel_initializer='zeros',bias_initializer='zeros')(x)"
      ],
      "metadata": {
        "colab": {
          "base_uri": "https://localhost:8080/"
        },
        "id": "QQUSlFur2-lR",
        "outputId": "fe75d671-6f7c-48ea-e0ea-0cc45de86673"
      },
      "execution_count": 8,
      "outputs": [
        {
          "output_type": "stream",
          "name": "stdout",
          "text": [
            "(None, 16, 16, 4)\n"
          ]
        }
      ]
    },
    {
      "cell_type": "code",
      "source": [
        "# sampling function\n",
        "def sampling(args):\n",
        "    z_mu, z_log_sigma = args\n",
        "    epsilon = K.random_normal(shape=(K.shape(z_mu)[0], latent_dim),\n",
        "                              mean=0., stddev=1.)\n",
        "    return z_mu + K.exp(z_log_sigma) * epsilon\n",
        "\n",
        "# sample vector from the latent distribution\n",
        "z = Lambda(sampling)([z_mu, z_log_sigma])\n",
        "\n",
        "encoder = Model(input_img,z)\n",
        "\n",
        "encoder.summary()"
      ],
      "metadata": {
        "colab": {
          "base_uri": "https://localhost:8080/"
        },
        "id": "X4pLE2fv32JP",
        "outputId": "ca1da802-c827-48be-89b3-afb9cca05fd0"
      },
      "execution_count": 9,
      "outputs": [
        {
          "output_type": "stream",
          "name": "stdout",
          "text": [
            "Model: \"model\"\n",
            "__________________________________________________________________________________________________\n",
            " Layer (type)                   Output Shape         Param #     Connected to                     \n",
            "==================================================================================================\n",
            " input_1 (InputLayer)           [(None, 128, 128, 3  0           []                               \n",
            "                                )]                                                                \n",
            "                                                                                                  \n",
            " conv2d (Conv2D)                (None, 64, 64, 32)   896         ['input_1[0][0]']                \n",
            "                                                                                                  \n",
            " batch_normalization (BatchNorm  (None, 64, 64, 32)  128         ['conv2d[0][0]']                 \n",
            " alization)                                                                                       \n",
            "                                                                                                  \n",
            " conv2d_1 (Conv2D)              (None, 32, 32, 16)   4624        ['batch_normalization[0][0]']    \n",
            "                                                                                                  \n",
            " batch_normalization_1 (BatchNo  (None, 32, 32, 16)  64          ['conv2d_1[0][0]']               \n",
            " rmalization)                                                                                     \n",
            "                                                                                                  \n",
            " conv2d_2 (Conv2D)              (None, 16, 16, 4)    580         ['batch_normalization_1[0][0]']  \n",
            "                                                                                                  \n",
            " batch_normalization_2 (BatchNo  (None, 16, 16, 4)   16          ['conv2d_2[0][0]']               \n",
            " rmalization)                                                                                     \n",
            "                                                                                                  \n",
            " flatten (Flatten)              (None, 1024)         0           ['batch_normalization_2[0][0]']  \n",
            "                                                                                                  \n",
            " dense (Dense)                  (None, 256)          262400      ['flatten[0][0]']                \n",
            "                                                                                                  \n",
            " dense_1 (Dense)                (None, 256)          262400      ['flatten[0][0]']                \n",
            "                                                                                                  \n",
            " lambda (Lambda)                (None, 256)          0           ['dense[0][0]',                  \n",
            "                                                                  'dense_1[0][0]']                \n",
            "                                                                                                  \n",
            "==================================================================================================\n",
            "Total params: 531,108\n",
            "Trainable params: 531,004\n",
            "Non-trainable params: 104\n",
            "__________________________________________________________________________________________________\n"
          ]
        }
      ]
    },
    {
      "cell_type": "code",
      "source": [
        "# decoder takes the latent distribution sample as input\n",
        "decoder_input = Input(K.int_shape(z)[1:])\n",
        "x = Dense(4096, activation='relu', name=\"intermediate_decoder\", input_shape=(latent_dim,))(decoder_input)\n",
        "x = Reshape((8,8,64))(x)\n",
        "\n",
        "x = Conv2DTranspose(32, (3, 3),strides= 2, padding='same')(x)\n",
        "x = BatchNormalization()(x)\n",
        "\n",
        "x = Conv2DTranspose(16, (3, 3),strides= 2, padding='same')(x)\n",
        "x = BatchNormalization()(x)\n",
        "\n",
        "x = Conv2DTranspose(8, (3, 3),strides= 2, padding='same')(x)\n",
        "x = BatchNormalization()(x)\n",
        "\n",
        "x = Conv2DTranspose(3, (3, 3),strides= 2, padding='same', activation='sigmoid')(x)\n",
        "\n",
        "\n",
        "# decoder model statement\n",
        "decoder = Model(decoder_input, x)\n",
        "\n",
        "# apply the decoder to the sample from the latent distribution\n",
        "pred = decoder(z)\n",
        "\n",
        "decoder.summary()"
      ],
      "metadata": {
        "colab": {
          "base_uri": "https://localhost:8080/"
        },
        "id": "J1uGWkcs_yXv",
        "outputId": "1d10904a-a764-4eea-da8c-856d2a634342"
      },
      "execution_count": 10,
      "outputs": [
        {
          "output_type": "stream",
          "name": "stdout",
          "text": [
            "Model: \"model_1\"\n",
            "_________________________________________________________________\n",
            " Layer (type)                Output Shape              Param #   \n",
            "=================================================================\n",
            " input_2 (InputLayer)        [(None, 256)]             0         \n",
            "                                                                 \n",
            " intermediate_decoder (Dense  (None, 4096)             1052672   \n",
            " )                                                               \n",
            "                                                                 \n",
            " reshape (Reshape)           (None, 8, 8, 64)          0         \n",
            "                                                                 \n",
            " conv2d_transpose (Conv2DTra  (None, 16, 16, 32)       18464     \n",
            " nspose)                                                         \n",
            "                                                                 \n",
            " batch_normalization_3 (Batc  (None, 16, 16, 32)       128       \n",
            " hNormalization)                                                 \n",
            "                                                                 \n",
            " conv2d_transpose_1 (Conv2DT  (None, 32, 32, 16)       4624      \n",
            " ranspose)                                                       \n",
            "                                                                 \n",
            " batch_normalization_4 (Batc  (None, 32, 32, 16)       64        \n",
            " hNormalization)                                                 \n",
            "                                                                 \n",
            " conv2d_transpose_2 (Conv2DT  (None, 64, 64, 8)        1160      \n",
            " ranspose)                                                       \n",
            "                                                                 \n",
            " batch_normalization_5 (Batc  (None, 64, 64, 8)        32        \n",
            " hNormalization)                                                 \n",
            "                                                                 \n",
            " conv2d_transpose_3 (Conv2DT  (None, 128, 128, 3)      219       \n",
            " ranspose)                                                       \n",
            "                                                                 \n",
            "=================================================================\n",
            "Total params: 1,077,363\n",
            "Trainable params: 1,077,251\n",
            "Non-trainable params: 112\n",
            "_________________________________________________________________\n"
          ]
        }
      ]
    },
    {
      "cell_type": "code",
      "source": [
        "from tensorflow.keras.metrics import binary_crossentropy\n",
        "\n",
        "def vae_loss(x, pred):\n",
        "    x = K.flatten(x)\n",
        "    pred = K.flatten(pred)\n",
        "    # Reconstruction loss\n",
        "    #reconst_loss = 100 * binary_crossentropy(x, pred)\n",
        "    reconst_loss = 1000*K.mean(K.square(x - pred))\n",
        "    \n",
        "    # KL divergence\n",
        "    kl_loss = -0.5 * K.mean(1 + z_log_sigma - K.square(z_mu) - K.exp(z_log_sigma), axis=-1)\n",
        "    \n",
        "    return (reconst_loss + kl_loss)"
      ],
      "metadata": {
        "id": "SiIB9O7T_5tV"
      },
      "execution_count": 11,
      "outputs": []
    },
    {
      "cell_type": "code",
      "source": [
        "# VAE model statement\n",
        "vae = Model(input_img,pred)\n",
        "vae.add_loss(vae_loss(input_img,pred))\n",
        "optimizer = Adam(learning_rate=0.0005)\n",
        "vae.compile(optimizer=optimizer, loss=None)\n",
        "\n",
        "vae.summary()"
      ],
      "metadata": {
        "colab": {
          "base_uri": "https://localhost:8080/"
        },
        "id": "5z_bP_M4__T5",
        "outputId": "c9e3b874-3594-4939-c45c-c4241b6ff85e"
      },
      "execution_count": 12,
      "outputs": [
        {
          "output_type": "stream",
          "name": "stdout",
          "text": [
            "Model: \"model_2\"\n",
            "__________________________________________________________________________________________________\n",
            " Layer (type)                   Output Shape         Param #     Connected to                     \n",
            "==================================================================================================\n",
            " input_1 (InputLayer)           [(None, 128, 128, 3  0           []                               \n",
            "                                )]                                                                \n",
            "                                                                                                  \n",
            " conv2d (Conv2D)                (None, 64, 64, 32)   896         ['input_1[0][0]']                \n",
            "                                                                                                  \n",
            " batch_normalization (BatchNorm  (None, 64, 64, 32)  128         ['conv2d[0][0]']                 \n",
            " alization)                                                                                       \n",
            "                                                                                                  \n",
            " conv2d_1 (Conv2D)              (None, 32, 32, 16)   4624        ['batch_normalization[0][0]']    \n",
            "                                                                                                  \n",
            " batch_normalization_1 (BatchNo  (None, 32, 32, 16)  64          ['conv2d_1[0][0]']               \n",
            " rmalization)                                                                                     \n",
            "                                                                                                  \n",
            " conv2d_2 (Conv2D)              (None, 16, 16, 4)    580         ['batch_normalization_1[0][0]']  \n",
            "                                                                                                  \n",
            " batch_normalization_2 (BatchNo  (None, 16, 16, 4)   16          ['conv2d_2[0][0]']               \n",
            " rmalization)                                                                                     \n",
            "                                                                                                  \n",
            " flatten (Flatten)              (None, 1024)         0           ['batch_normalization_2[0][0]']  \n",
            "                                                                                                  \n",
            " dense (Dense)                  (None, 256)          262400      ['flatten[0][0]']                \n",
            "                                                                                                  \n",
            " dense_1 (Dense)                (None, 256)          262400      ['flatten[0][0]']                \n",
            "                                                                                                  \n",
            " lambda (Lambda)                (None, 256)          0           ['dense[0][0]',                  \n",
            "                                                                  'dense_1[0][0]']                \n",
            "                                                                                                  \n",
            " model_1 (Functional)           (None, 128, 128, 3)  1077363     ['lambda[0][0]']                 \n",
            "                                                                                                  \n",
            " tf.reshape (TFOpLambda)        (None,)              0           ['input_1[0][0]']                \n",
            "                                                                                                  \n",
            " tf.reshape_1 (TFOpLambda)      (None,)              0           ['model_1[0][0]']                \n",
            "                                                                                                  \n",
            " tf.__operators__.add (TFOpLamb  (None, 256)         0           ['dense_1[0][0]']                \n",
            " da)                                                                                              \n",
            "                                                                                                  \n",
            " tf.math.square_1 (TFOpLambda)  (None, 256)          0           ['dense[0][0]']                  \n",
            "                                                                                                  \n",
            " tf.math.subtract (TFOpLambda)  (None,)              0           ['tf.reshape[0][0]',             \n",
            "                                                                  'tf.reshape_1[0][0]']           \n",
            "                                                                                                  \n",
            " tf.math.subtract_1 (TFOpLambda  (None, 256)         0           ['tf.__operators__.add[0][0]',   \n",
            " )                                                                'tf.math.square_1[0][0]']       \n",
            "                                                                                                  \n",
            " tf.math.exp (TFOpLambda)       (None, 256)          0           ['dense_1[0][0]']                \n",
            "                                                                                                  \n",
            " tf.math.square (TFOpLambda)    (None,)              0           ['tf.math.subtract[0][0]']       \n",
            "                                                                                                  \n",
            " tf.math.subtract_2 (TFOpLambda  (None, 256)         0           ['tf.math.subtract_1[0][0]',     \n",
            " )                                                                'tf.math.exp[0][0]']            \n",
            "                                                                                                  \n",
            " tf.math.reduce_mean (TFOpLambd  ()                  0           ['tf.math.square[0][0]']         \n",
            " a)                                                                                               \n",
            "                                                                                                  \n",
            " tf.math.reduce_mean_1 (TFOpLam  (None,)             0           ['tf.math.subtract_2[0][0]']     \n",
            " bda)                                                                                             \n",
            "                                                                                                  \n",
            " tf.math.multiply (TFOpLambda)  ()                   0           ['tf.math.reduce_mean[0][0]']    \n",
            "                                                                                                  \n",
            " tf.math.multiply_1 (TFOpLambda  (None,)             0           ['tf.math.reduce_mean_1[0][0]']  \n",
            " )                                                                                                \n",
            "                                                                                                  \n",
            " tf.__operators__.add_1 (TFOpLa  (None,)             0           ['tf.math.multiply[0][0]',       \n",
            " mbda)                                                            'tf.math.multiply_1[0][0]']     \n",
            "                                                                                                  \n",
            " add_loss (AddLoss)             (None,)              0           ['tf.__operators__.add_1[0][0]'] \n",
            "                                                                                                  \n",
            "==================================================================================================\n",
            "Total params: 1,608,471\n",
            "Trainable params: 1,608,255\n",
            "Non-trainable params: 216\n",
            "__________________________________________________________________________________________________\n"
          ]
        }
      ]
    },
    {
      "cell_type": "code",
      "source": [
        "from keras.callbacks import EarlyStopping\n",
        "from os import path\n",
        "\n",
        "# run the model\n",
        "early_stopping = EarlyStopping(monitor='val_loss', min_delta=0, patience=10, verbose=5, mode='auto')\n",
        "\n",
        "if(path.exists(\"/checkpoints\")):\n",
        "    vae.load_weights(\"/checkpoints/vae\")\n",
        "else:\n",
        "    history = vae.fit(train_ds, epochs=5, validation_data=val_ds, callbacks=[early_stopping],verbose=1)\n",
        "    plt.plot(history.history['loss'])\n",
        "    plt.plot(history.history['val_loss'])\n",
        "    vae.save_weights(\"/checkpoints/vae\")"
      ],
      "metadata": {
        "colab": {
          "base_uri": "https://localhost:8080/",
          "height": 243
        },
        "id": "WCo9M8XNAHSA",
        "outputId": "ee65c777-913c-4f77-fce9-743588fd2fe6"
      },
      "execution_count": 1,
      "outputs": [
        {
          "output_type": "error",
          "ename": "NameError",
          "evalue": "ignored",
          "traceback": [
            "\u001b[0;31m---------------------------------------------------------------------------\u001b[0m",
            "\u001b[0;31mNameError\u001b[0m                                 Traceback (most recent call last)",
            "\u001b[0;32m<ipython-input-1-d6f2cda220a8>\u001b[0m in \u001b[0;36m<module>\u001b[0;34m()\u001b[0m\n\u001b[1;32m      8\u001b[0m     \u001b[0mvae\u001b[0m\u001b[0;34m.\u001b[0m\u001b[0mload_weights\u001b[0m\u001b[0;34m(\u001b[0m\u001b[0;34m\"/checkpoints/vae\"\u001b[0m\u001b[0;34m)\u001b[0m\u001b[0;34m\u001b[0m\u001b[0;34m\u001b[0m\u001b[0m\n\u001b[1;32m      9\u001b[0m \u001b[0;32melse\u001b[0m\u001b[0;34m:\u001b[0m\u001b[0;34m\u001b[0m\u001b[0;34m\u001b[0m\u001b[0m\n\u001b[0;32m---> 10\u001b[0;31m     \u001b[0mhistory\u001b[0m \u001b[0;34m=\u001b[0m \u001b[0mvae\u001b[0m\u001b[0;34m.\u001b[0m\u001b[0mfit\u001b[0m\u001b[0;34m(\u001b[0m\u001b[0mtrain_ds\u001b[0m\u001b[0;34m,\u001b[0m \u001b[0mepochs\u001b[0m\u001b[0;34m=\u001b[0m\u001b[0;36m5\u001b[0m\u001b[0;34m,\u001b[0m \u001b[0mvalidation_data\u001b[0m\u001b[0;34m=\u001b[0m\u001b[0mval_ds\u001b[0m\u001b[0;34m,\u001b[0m \u001b[0mcallbacks\u001b[0m\u001b[0;34m=\u001b[0m\u001b[0;34m[\u001b[0m\u001b[0mearly_stopping\u001b[0m\u001b[0;34m]\u001b[0m\u001b[0;34m,\u001b[0m\u001b[0mverbose\u001b[0m\u001b[0;34m=\u001b[0m\u001b[0;36m1\u001b[0m\u001b[0;34m)\u001b[0m\u001b[0;34m\u001b[0m\u001b[0;34m\u001b[0m\u001b[0m\n\u001b[0m\u001b[1;32m     11\u001b[0m     \u001b[0mplt\u001b[0m\u001b[0;34m.\u001b[0m\u001b[0mplot\u001b[0m\u001b[0;34m(\u001b[0m\u001b[0mhistory\u001b[0m\u001b[0;34m.\u001b[0m\u001b[0mhistory\u001b[0m\u001b[0;34m[\u001b[0m\u001b[0;34m'loss'\u001b[0m\u001b[0;34m]\u001b[0m\u001b[0;34m)\u001b[0m\u001b[0;34m\u001b[0m\u001b[0;34m\u001b[0m\u001b[0m\n\u001b[1;32m     12\u001b[0m     \u001b[0mplt\u001b[0m\u001b[0;34m.\u001b[0m\u001b[0mplot\u001b[0m\u001b[0;34m(\u001b[0m\u001b[0mhistory\u001b[0m\u001b[0;34m.\u001b[0m\u001b[0mhistory\u001b[0m\u001b[0;34m[\u001b[0m\u001b[0;34m'val_loss'\u001b[0m\u001b[0;34m]\u001b[0m\u001b[0;34m)\u001b[0m\u001b[0;34m\u001b[0m\u001b[0;34m\u001b[0m\u001b[0m\n",
            "\u001b[0;31mNameError\u001b[0m: name 'vae' is not defined"
          ]
        }
      ]
    },
    {
      "cell_type": "code",
      "source": [
        "from PIL import Image\n",
        "from sklearn.manifold import TSNE\n",
        "from scipy.spatial import distance\n",
        "\n",
        "max_dim = 50\n",
        "\n",
        "def visualize_space(X,images,outfile):\n",
        "\n",
        "    #D = distance.squareform(distance.pdist(X), \"sqeuclidean\")\n",
        "    tsne = TSNE(n_components=2, learning_rate='auto', init='random', square_distances=True).fit_transform(X)\n",
        "    tx, ty = tsne[:,0], tsne[:,1]\n",
        "    tx = (tx-np.min(tx)) / (np.max(tx) - np.min(tx))\n",
        "    ty = (ty-np.min(ty)) / (np.max(ty) - np.min(ty))\n",
        "    width = 10000\n",
        "    height = 5000\n",
        "\n",
        "\n",
        "    full_image = Image.new('RGBA', (width, height))\n",
        "    for img, x, y in zip(images, tx, ty):\n",
        "        img = np.array(img)\n",
        "        tile = Image.fromarray(np.uint8(img*255))\n",
        "        full_image.paste(tile, (int((width-max_dim)*x), int((height-max_dim)*y)), mask=tile.convert('RGBA'))\n",
        "\n",
        "    plt.figure(figsize = (66,50))\n",
        "    plt.imshow(full_image)\n",
        "    plt.axis(\"off\")\n",
        "    full_image.save(outfile)"
      ],
      "metadata": {
        "id": "lg-6bTOKAKK_"
      },
      "execution_count": null,
      "outputs": []
    },
    {
      "cell_type": "code",
      "source": [
        "# Project sample of images from validation set into Latent Space\n",
        "vis_imgs = []\n",
        "latent_space = np.zeros((BATCH_SIZE*40,256))\n",
        "xi = 0\n",
        "for input_images,output_images in val_ds.take(40):\n",
        "    latent_vec = encoder(input_images)\n",
        "    latent_space[xi:xi+BATCH_SIZE,:] = np.array(latent_vec)\n",
        "    xi = xi + BATCH_SIZE\n",
        "    for i in range(BATCH_SIZE):\n",
        "        vis_imgs.append(tf.keras.preprocessing.image.img_to_array(input_images[i]))\n",
        "print(\"Dimension of Latent Space:\")\n",
        "print(latent_space.shape)"
      ],
      "metadata": {
        "id": "LgpCOBgpg8Sj"
      },
      "execution_count": null,
      "outputs": []
    },
    {
      "cell_type": "code",
      "source": [
        "visualize_space(latent_space,vis_imgs,\"Latent-fashiondb.png\")"
      ],
      "metadata": {
        "id": "a4_PrUpAg-k-"
      },
      "execution_count": null,
      "outputs": []
    },
    {
      "cell_type": "code",
      "source": [
        "from scipy.stats import norm\n",
        "import numpy as np\n",
        "\n",
        "fig = plt.figure(figsize=(15, 5))\n",
        "\n",
        "for input_images,output_images in val_ds.take(1):\n",
        "    latent_vec = encoder(input_images)\n",
        "    reconst_vec = decoder.predict(latent_vec)\n",
        "    for i in range(25):\n",
        "        ax = fig.add_subplot(5, 5, i+1)\n",
        "        ax.axis('off')\n",
        "        reconst = reconst_vec[i,:,:,:] * 255\n",
        "        reconst = np.array(reconst)  \n",
        "        reconst = reconst.astype(np.uint8)\n",
        "        ax.imshow(reconst)"
      ],
      "metadata": {
        "id": "Khe1Q1evg-nT"
      },
      "execution_count": null,
      "outputs": []
    },
    {
      "cell_type": "code",
      "source": [
        "import os,sys,glob\n",
        "\n",
        "files = glob.glob('Images/source/*.jpg')\n",
        "num_batches = int(len(files)/BATCH_SIZE)\n",
        "if(len(files)%BATCH_SIZE != 0):\n",
        "    print(\"Source and Target Files should be a multiple of Batch Size\")\n",
        "\n",
        "\n",
        "target_batches = []\n",
        "mid_batches = []\n",
        "src_batch = np.zeros((BATCH_SIZE,IMG_WIDTH,IMG_HEIGHT,3))\n",
        "target_batch = np.zeros((BATCH_SIZE,IMG_WIDTH,IMG_HEIGHT,3))\n",
        "src_latent = []\n",
        "target_latent = []\n",
        "img_nr = 0\n",
        "for i in range(len(files)):\n",
        "    source = Image.open(files[i])\n",
        "    source = source.resize((IMG_WIDTH,IMG_HEIGHT))\n",
        "    src_arr = np.array(source)/255\n",
        "        \n",
        "    target = Image.open(\"Images/target/\"+os.path.basename(files[i]))\n",
        "    target = target.resize((IMG_WIDTH,IMG_HEIGHT))\n",
        "    target_arr = np.array(target)/255\n",
        "    \n",
        "    src_batch[img_nr,:,:,:] = src_arr\n",
        "    target_batch[img_nr,:,:,:] = target_arr\n",
        "    img_nr = img_nr + 1\n",
        "    \n",
        "    if(i % (BATCH_SIZE -1) == 0 and i>0):\n",
        "        src_latent.append(encoder(src_batch))\n",
        "        target_latent.append(encoder(target_batch))\n",
        "        src_batch = np.zeros((BATCH_SIZE,IMG_WIDTH,IMG_HEIGHT,3))\n",
        "        target_batch = np.zeros((BATCH_SIZE,IMG_WIDTH,IMG_HEIGHT,3))\n",
        "        img_nr = 0\n"
      ],
      "metadata": {
        "id": "ytF2_q0Lg-p3"
      },
      "execution_count": null,
      "outputs": []
    },
    {
      "cell_type": "code",
      "source": [
        "fig = plt.figure(figsize=(10, 80))        \n",
        "num_imgs = int(BATCH_SIZE*num_batches)\n",
        "for i in range(1):\n",
        "    \n",
        "    mid_latent = (src_latent[i] + target_latent[i])/2\n",
        "\n",
        "    src_img = decoder.predict(src_latent[i])\n",
        "    target_img = decoder.predict(target_latent[i])\n",
        "    mid_img = decoder.predict(mid_latent)\n",
        "    for j in range(BATCH_SIZE):\n",
        "        ax = fig.add_subplot(num_imgs, 3, i*BATCH_SIZE + 3*j+1)\n",
        "        plt.imshow((src_img[j]*255).astype(np.uint8))\n",
        "        ax.axis('off')\n",
        "        ax = fig.add_subplot(num_imgs, 3, i*BATCH_SIZE + 3*j+2)\n",
        "        plt.imshow((mid_img[j]*255).astype(np.uint8))\n",
        "        ax.axis('off')\n",
        "        ax = fig.add_subplot(num_imgs, 3, i*BATCH_SIZE + 3*j+3)\n",
        "        plt.imshow((target_img[j]*255).astype(np.uint8))\n",
        "        ax.axis('off')"
      ],
      "metadata": {
        "id": "p6w5OODNg-se"
      },
      "execution_count": null,
      "outputs": []
    },
    {
      "cell_type": "code",
      "source": [
        "fig = plt.figure(figsize=(10, 40))\n",
        "for j in range(BATCH_SIZE):\n",
        "    for i in range(0,100,10):\n",
        "        ax = fig.add_subplot(BATCH_SIZE,10,int(10*j+i/10+1))\n",
        "        plt.imshow((inter_imgs[i,j,:,:]*255).astype(np.uint8))\n",
        "        ax.axis('off')\n"
      ],
      "metadata": {
        "id": "oxPaqMW0g-v-"
      },
      "execution_count": null,
      "outputs": []
    },
    {
      "cell_type": "code",
      "source": [
        "save_path = \"Images/intermediate\"\n",
        "for j in range(num_imgs):\n",
        "    frames = []\n",
        "    for i in range(100):\n",
        "        img_arr = (inter_imgs[i,j,:,:]*255).astype(np.uint8)\n",
        "        img = Image.fromarray(img_arr)\n",
        "        frames.append(img)\n",
        "        \n",
        "    frames[0].save(save_path+\"/\"+str(j+1)+\".gif\", format='GIF',append_images=frames[1:],save_all=True,duration=50, loop=0)\n"
      ],
      "metadata": {
        "id": "uXFwwrbJ3gNY"
      },
      "execution_count": null,
      "outputs": []
    },
    {
      "cell_type": "code",
      "source": [
        "def load_item(path_str):\n",
        "    ds = tf.data.Dataset.list_files(path_str)\n",
        "    ds = ds.map(load_image_train, num_parallel_calls=tf.data.experimental.AUTOTUNE)\n",
        "    ds = ds.shuffle(BUFFER_SIZE).batch(BATCH_SIZE)\n",
        "\n",
        "    \n",
        "    return ds\n"
      ],
      "metadata": {
        "id": "EIXJWdJe3gK2"
      },
      "execution_count": null,
      "outputs": []
    },
    {
      "cell_type": "code",
      "source": [
        "def get_latent_space(ds):\n",
        "    nr_batches = ds.__len__().numpy()\n",
        "    latent_space = np.zeros((BATCH_SIZE*nr_batches,256))\n",
        "    xi = 0\n",
        "    for input_images,output_images in ds:\n",
        "        latent_vec = encoder(input_images)\n",
        "        latent_space[xi:xi+input_images.shape[0],:] = np.array(latent_vec)\n",
        "        xi = xi + input_images.shape[0]\n",
        "\n",
        "    print(\"Dimension of Latent Space:\")\n",
        "    print(latent_space.shape)\n",
        "    return latent_space\n"
      ],
      "metadata": {
        "id": "YWs_EKxL3gI-"
      },
      "execution_count": null,
      "outputs": []
    },
    {
      "cell_type": "code",
      "source": [
        "import random\n",
        "\n",
        "def get_interp_vect(latent_space):\n",
        "    x1 = latent_space[random.randrange(0,latent_space.shape[0]),:]\n",
        "    x2 = latent_space[random.randrange(0,latent_space.shape[0]),:]\n",
        "    X = np.linspace(x1,x2,1000)\n",
        "    X = X[range(0,1000,50),:]\n",
        "    return X\n",
        "\n",
        "def gen_images(latent_space):\n",
        "    X = np.zeros((100,256))\n",
        "    for i in range(0,100,20):\n",
        "        X[i:i+20,:] = get_interp_vect(latent_space)\n",
        "    reconstruct = decoder.predict(X)\n",
        "\n",
        "\n",
        "    fig = plt.figure(figsize=(15, 7))\n",
        "    fig.subplots_adjust(hspace=0.2, wspace=0.2)\n",
        "\n",
        "    n = 1\n",
        "    for i in range(0,100,1):\n",
        "        ax = fig.add_subplot(5, 20, n)\n",
        "        n = n + 1\n",
        "        ax.axis('off')\n",
        "        pred = reconstruct[i, :, :, :] * 255\n",
        "        pred = np.array(pred)  \n",
        "        pred = pred.astype(np.uint8)\n",
        "        ax.imshow(pred)\n",
        "    return reconstruct\n"
      ],
      "metadata": {
        "id": "Zy6mnMSr3gHL"
      },
      "execution_count": null,
      "outputs": []
    },
    {
      "cell_type": "code",
      "source": [
        "ds = load_item('Images/items\\\\item1\\\\*.jpg')\n",
        "latent_space = get_latent_space(ds)\n"
      ],
      "metadata": {
        "id": "uz61tShC3gCq"
      },
      "execution_count": null,
      "outputs": []
    },
    {
      "cell_type": "code",
      "source": [
        "items = []\n",
        "items.append(gen_images(latent_space))\n"
      ],
      "metadata": {
        "id": "hD19FGTn3f_Q"
      },
      "execution_count": null,
      "outputs": []
    },
    {
      "cell_type": "code",
      "source": [
        "ds = load_item('Images/items/item2/*.jpg')\n",
        "latent_space = get_latent_space(ds)\n",
        "items.append(gen_images(latent_space))\n"
      ],
      "metadata": {
        "id": "xkxjfynE3wjG"
      },
      "execution_count": null,
      "outputs": []
    },
    {
      "cell_type": "code",
      "source": [
        "ds = load_item('Images/items/item3/*.jpg')\n",
        "latent_space = get_latent_space(ds)\n",
        "items.append(gen_images(latent_space))\n"
      ],
      "metadata": {
        "id": "yKj1iQRp3wgo"
      },
      "execution_count": null,
      "outputs": []
    },
    {
      "cell_type": "code",
      "source": [
        "ds = load_item('Images/items/item4/*.jpg')\n",
        "latent_space = get_latent_space(ds)\n",
        "items.append(gen_images(latent_space))\n"
      ],
      "metadata": {
        "id": "J3RMoYA63we5"
      },
      "execution_count": null,
      "outputs": []
    },
    {
      "cell_type": "code",
      "source": [
        "ds = load_item('Images/items/item5/*.jpg')\n",
        "latent_space = get_latent_space(ds)\n",
        "items.append(gen_images(latent_space))\n"
      ],
      "metadata": {
        "id": "DBfxdHET3wXq"
      },
      "execution_count": null,
      "outputs": []
    },
    {
      "cell_type": "code",
      "source": [
        "ds = load_item('Images/items/item6/*.jpg')\n",
        "latent_space = get_latent_space(ds)\n",
        "items.append(gen_images(latent_space))\n"
      ],
      "metadata": {
        "id": "ymJwDodF3wUx"
      },
      "execution_count": null,
      "outputs": []
    },
    {
      "cell_type": "code",
      "source": [
        "for i in range(len(items)):\n",
        "    item = items[i]\n",
        "    for j in range(100):\n",
        "        img_arr = (item[j,:,:,:]*255).astype(np.uint8)\n",
        "        img = Image.fromarray(img_arr)\n",
        "        save_path = \"images\\\\intermediate\\\\item\"+str(i+1)\n",
        "        if not os.path.exists(save_path):\n",
        "            os.makedirs(save_path)\n",
        "        img.save(save_path+\"/\"+str(j)+\".jpg\")\n"
      ],
      "metadata": {
        "id": "E6hdJ7ZC39TE"
      },
      "execution_count": null,
      "outputs": []
    }
  ]
}