{
 "cells": [
  {
   "cell_type": "code",
   "execution_count": 1,
   "metadata": {},
   "outputs": [],
   "source": [
    "import sys\n",
    "import cv2\n",
    "from ForgeryDetection import Detect\n",
    "\n",
    "import re\n",
    "from datetime import datetime"
   ]
  },
  {
   "cell_type": "code",
   "execution_count": 2,
   "metadata": {},
   "outputs": [],
   "source": [
    "def print_boundary():\n",
    "    for i in range(50): \n",
    "        print(\"*\", end = '')\n",
    "        \n",
    "    print()\n",
    "    \n",
    "def read_file():\n",
    "    file_name = str(input(\"enter the file path: \"))\n",
    "\n",
    "    img = cv2.imread(file_name)\n",
    "    if img is None: \n",
    "        print(file_name)\n",
    "        print(\"Enter a Valid File Name/Path\")\n",
    "\n",
    "        sys.exit(0)\n",
    "        \n",
    "    return img, file_name"
   ]
  },
  {
   "cell_type": "code",
   "execution_count": 6,
   "metadata": {},
   "outputs": [],
   "source": [
    "def config():\n",
    "    eps = 60\n",
    "    min_samples = 2\n",
    "    return eps, min_samples\n",
    "    \n",
    "def main():\n",
    "    im, file_name = read_file()\n",
    "    eps, min_samples = config()\n",
    "    print_boundary()\n",
    "    print(\"Use \\'q\\' for exit and \\n\\'s/S\\' for saving the detections in the file:'\")\n",
    "    print_boundary()\n",
    "    \n",
    "    flag = True\n",
    "    \n",
    "    print_boundary()\n",
    "    print(\"Detecting Forgery with parameter value as\\neps:{}\\nmin_samples:{}\".format(eps, min_samples))\n",
    "    print_boundary()\n",
    "    \n",
    "    detect = Detect(im)\n",
    "    \n",
    "    key_pts, descriptors = detect.siftDetector()\n",
    "    \n",
    "    forgery = detect.locateForgery(eps, min_samples)\n",
    "    \n",
    "    if forgery is None: \n",
    "        sys.exit(0)\n",
    "        \n",
    "    cv2.imshow(\"Original Image\", im)\n",
    "    cv2.imshow(\"Forgery\", forgery)\n",
    "    \n",
    "    wait_time = 500\n",
    "    \n",
    "    while(cv2.getWindowProperty(\"Forgery\", 0) >= 0) or (cv2.getWindowProperty(\"Original Image\", 0) >= 0):\n",
    "        key_Code = cv2.waitKey(wait_time)\n",
    "        \n",
    "        if key_Code == ord(\"q\") or key_Code == ord(\"S\"):\n",
    "            name = re.findall(r\"(.+?)(\\.[^.]*$|$)\", file_name)\n",
    "            date = datetime.today().strftime(\"%Y_%m_%d_%H_%M_%S\")\n",
    "            new_file_name = name[0][0] + \"_\" + str(eps) + \"_\" + str(min_samples)\n",
    "            new_file_name = new_file_name + \"_\" + date+name[0][1]\n",
    "            print_boundary()\n",
    "            \n",
    "            value =  cv2.imwrite(new_file_name, forgery)\n",
    "            print(\"Image saved as...\", new_file_name)\n",
    "            \n",
    "    cv2.destroyAllWindows()"
   ]
  },
  {
   "cell_type": "code",
   "execution_count": 7,
   "metadata": {},
   "outputs": [
    {
     "name": "stdin",
     "output_type": "stream",
     "text": [
      "enter the file path:  forged3.png\n"
     ]
    },
    {
     "name": "stdout",
     "output_type": "stream",
     "text": [
      "**************************************************\n",
      "Use 'q' for exit and \n",
      "'s/S' for saving the detections in the file:'\n",
      "**************************************************\n",
      "**************************************************\n",
      "Detecting Forgery with parameter value as\n",
      "eps:60\n",
      "min_samples:2\n",
      "**************************************************\n",
      "**************************************************\n",
      "Image saved as... forged3_60_2_2022_01_30_01_06_18.png\n"
     ]
    }
   ],
   "source": [
    "if __name__ == \"__main__\": \n",
    "    main()"
   ]
  },
  {
   "cell_type": "code",
   "execution_count": null,
   "metadata": {},
   "outputs": [],
   "source": []
  }
 ],
 "metadata": {
  "kernelspec": {
   "display_name": "computerVision",
   "language": "python",
   "name": "computervision"
  },
  "language_info": {
   "codemirror_mode": {
    "name": "ipython",
    "version": 3
   },
   "file_extension": ".py",
   "mimetype": "text/x-python",
   "name": "python",
   "nbconvert_exporter": "python",
   "pygments_lexer": "ipython3",
   "version": "3.7.1"
  }
 },
 "nbformat": 4,
 "nbformat_minor": 2
}
